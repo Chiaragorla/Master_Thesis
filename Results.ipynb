{
 "cells": [
  {
   "cell_type": "markdown",
   "id": "145b3e53",
   "metadata": {},
   "source": [
    "ResNet with Attention"
   ]
  },
  {
   "cell_type": "code",
   "execution_count": 3,
   "id": "9296bd2b",
   "metadata": {},
   "outputs": [],
   "source": [
    "#load keras model\n",
    "import keras\n",
    "from keras.models import load_model\n",
    "import numpy as np\n",
    "#load model\n",
    "model = load_model(r'C:\\Users\\Utente\\Desktop\\Chiara\\Codici\\Cose nuove\\Nuovi\\Final_mean\\Codes\\Trained models\\ResNet_SE.keras')\n"
   ]
  },
  {
   "cell_type": "code",
   "execution_count": 4,
   "id": "e0f6e198",
   "metadata": {},
   "outputs": [],
   "source": [
    "import pandas as pd\n",
    "test_sick = pd.read_pickle(r'C:\\Users\\Utente\\Desktop\\Chiara\\SUBSET\\df_malati_mean_noFMP.pkl')\n",
    "test_healthy = pd.read_pickle(r'C:\\Users\\Utente\\Desktop\\Chiara\\SUBSET\\df_test_mean.pkl')\n",
    "train = pd.read_pickle(r\"C:\\Users\\Utente\\Desktop\\Chiara\\SUBSET\\df_train_mean.pkl\")"
   ]
  },
  {
   "cell_type": "code",
   "execution_count": 5,
   "id": "c08e5964",
   "metadata": {},
   "outputs": [],
   "source": [
    "test_healthy['signals'] = test_healthy['signals'].apply(lambda x: x[0] if isinstance(x, list) and isinstance(x[0], np.ndarray) else x)\n",
    "test_sick['signals'] = test_sick['signals'].apply(lambda x: x[0] if isinstance(x, list) and isinstance(x[0], np.ndarray) else x)\n",
    "train['signals'] = train['signals'].apply(lambda x: x[0] if isinstance(x, list) and isinstance(x[0], np.ndarray) else x)"
   ]
  },
  {
   "cell_type": "code",
   "execution_count": 6,
   "id": "b62a23eb",
   "metadata": {},
   "outputs": [],
   "source": [
    "def find_n_windows(l_signal, w_window=3600, Maxoverlap=0.5):\n",
    "    n_windows = np.ceil(l_signal / w_window)\n",
    "    if n_windows ==1:\n",
    "        overlap = 0\n",
    "    else:\n",
    "        overlap = np.ceil(((n_windows * w_window) - l_signal) / (n_windows -1))\n",
    "    if overlap * (n_windows - 1) > (w_window * Maxoverlap):\n",
    "        n_windows = n_windows -1\n",
    "        overlap = 0\n",
    "    return n_windows, overlap\n",
    "\n",
    "\n",
    "import numpy as np\n",
    "\n",
    "def WindowSignals(X, y, Maxoverlap=0.5):\n",
    "    \"\"\"\n",
    "    Divide i segnali di X in finestre e assegna a ciascuna finestra l'età gestazionale `y`.\n",
    "    \n",
    "    Args:\n",
    "        X (ndarray): Array di segnali, ciascuno rappresentato come array numpy (dtype=object).\n",
    "        y (ndarray): Array di etichette (età gestazionale) corrispondenti ai segnali in X (dtype=object).\n",
    "        Maxoverlap (float): Percentuale massima di sovrapposizione tra le finestre (default 0.5).\n",
    "\n",
    "    Returns:\n",
    "        X_post_win (ndarray): Array di finestre dei segnali.\n",
    "        y_post_win (ndarray): Array di etichette per ciascuna finestra.\n",
    "    \"\"\"\n",
    "    if isinstance(X, pd.DataFrame) or isinstance(X, pd.Series):\n",
    "        X = X.to_numpy()  # Conversione a numpy array se X è un DataFrame o Series\n",
    "    if isinstance(y, pd.DataFrame) or isinstance(y, pd.Series):\n",
    "        y = y.to_numpy()  # Conversione a numpy array se y è un DataFrame o Series\n",
    "    \n",
    "\n",
    "    X_post_win = []\n",
    "    y_post_win = []\n",
    "\n",
    "    for i in range(len(X)):  # Itera sugli array in X (ora sono ndarray di tipo object)\n",
    "        signal = X[i]\n",
    "        label = y[i]  # L'etichetta associata al segnale\n",
    "\n",
    "        l_signal = len(signal)  # Lunghezza del segnale\n",
    "        w_window = 3600  # Lunghezza della finestra\n",
    "\n",
    "        # Calcola il numero di finestre e la sovrapposizione\n",
    "        if Maxoverlap > 0:\n",
    "            n_windows, overlap = find_n_windows(l_signal, w_window, Maxoverlap)\n",
    "        else:\n",
    "            n_windows = np.floor(l_signal / w_window)\n",
    "            overlap = 0\n",
    "\n",
    "        # Genera le finestre per il segnale corrente\n",
    "        for n in range(int(n_windows)):\n",
    "            start_index = int(n * (w_window - overlap))\n",
    "            end_index = int(start_index + w_window)\n",
    "            if end_index > l_signal:  # Verifica che la finestra non esca dai limiti\n",
    "                break\n",
    "            window = signal[start_index:end_index]\n",
    "            X_post_win.append(window)\n",
    "            y_post_win.append(label)  # Aggiungi l'etichetta corrispondente\n",
    "\n",
    "    return np.array(X_post_win, dtype=object), np.array(y_post_win, dtype=object)\n"
   ]
  },
  {
   "cell_type": "code",
   "execution_count": 7,
   "id": "487d1f88",
   "metadata": {},
   "outputs": [],
   "source": [
    "X_windows_train, y_windows_train= WindowSignals(train['signals'], train['y'])\n",
    "X_windows_test, y_windows_test = WindowSignals(test_healthy['signals'], test_healthy['y'])\n",
    "X_windows_test_sick, y_windows_test_sick = WindowSignals(test_sick['signals'], test_sick['y'])"
   ]
  },
  {
   "cell_type": "code",
   "execution_count": 8,
   "id": "70fe647b",
   "metadata": {},
   "outputs": [],
   "source": [
    "from sklearn.preprocessing import MinMaxScaler\n",
    "\n",
    "scaler = MinMaxScaler(feature_range=(-1, 1))\n",
    "scaler.fit(y_windows_train.reshape(-1, 1))\n",
    "y_windows_test_scaled = scaler.transform(y_windows_test.reshape(-1, 1))\n",
    "y_windows_test_sick_scaled = scaler.transform(y_windows_test_sick.reshape(-1, 1))"
   ]
  },
  {
   "cell_type": "code",
   "execution_count": 9,
   "id": "1d8a9455",
   "metadata": {},
   "outputs": [],
   "source": [
    "y_windows_test = y_windows_test_scaled\n",
    "y_windows_test_sick = y_windows_test_sick_scaled"
   ]
  },
  {
   "cell_type": "code",
   "execution_count": 10,
   "id": "a0adbea1",
   "metadata": {},
   "outputs": [
    {
     "name": "stdout",
     "output_type": "stream",
     "text": [
      "object\n",
      "object\n"
     ]
    }
   ],
   "source": [
    "print(X_windows_test.dtype)\n",
    "print(X_windows_test_sick.dtype)\n"
   ]
  },
  {
   "cell_type": "code",
   "execution_count": 11,
   "id": "5cbe918a",
   "metadata": {},
   "outputs": [],
   "source": [
    "import tensorflow as tf\n",
    "\n",
    "X_windows_test = tf.convert_to_tensor(X_windows_test, dtype=tf.float32)\n",
    "X_windows_test_sick = tf.convert_to_tensor(X_windows_test_sick, dtype=tf.float32)\n",
    "X_windows_test = tf.expand_dims(X_windows_test, axis=-1)\n",
    "X_windows_test_sick = tf.expand_dims(X_windows_test_sick, axis=-1)"
   ]
  },
  {
   "cell_type": "code",
   "execution_count": 12,
   "id": "f5700fed",
   "metadata": {},
   "outputs": [],
   "source": [
    "from sklearn.metrics import mean_absolute_error, mean_squared_error, r2_score\n",
    "from scipy.stats import pearsonr, spearmanr, linregress\n",
    "import numpy as np\n",
    "\n",
    "def compute_metrics(y_true, y_pred):\n",
    "    y_true_denorm = scaler.inverse_transform(y_true.reshape(-1, 1)).flatten()\n",
    "    y_pred_denorm = scaler.inverse_transform(y_pred.reshape(-1, 1)).flatten()\n",
    "    mae = mean_absolute_error(y_true, y_pred)\n",
    "    mse = mean_squared_error(y_true, y_pred)\n",
    "    mae_denorm = mean_absolute_error(y_true_denorm, y_pred_denorm)\n",
    "    mse_denorm = mean_squared_error(y_true_denorm, y_pred_denorm)\n",
    "    mae_denorm_div7 = mae_denorm / 7\n",
    "    mse_denorm_div7 = mse_denorm / 7\n",
    "    r2 = r2_score(y_true, y_pred)\n",
    "    pearson_corr, p_value = pearsonr(y_true, y_pred)\n",
    "    spearman_corr, _ = spearmanr(y_true, y_pred)\n",
    "    slope, intercept, r_value, p_linreg, std_err = linregress(y_true, y_pred)\n",
    "    \n",
    "    return {\n",
    "        'MAE_norm': mae,\n",
    "        'MSE_norm': mse,\n",
    "        'MAE_denorm': mae_denorm,\n",
    "        'MSE_denorm': mse_denorm,\n",
    "        'MAE_denorm_div7': mae_denorm_div7,\n",
    "        'MSE_denorm_div7': mse_denorm_div7,\n",
    "        'R2': r2,\n",
    "        'Pearson': pearson_corr,\n",
    "        'Spearman': spearman_corr,\n",
    "        'P_value': p_value,\n",
    "        'Slope': slope\n",
    "    }\n"
   ]
  },
  {
   "cell_type": "code",
   "execution_count": 13,
   "id": "f0b7937f",
   "metadata": {},
   "outputs": [],
   "source": [
    "def bootstrap_metrics(y_true, y_pred, n_bootstrap=1000, random_state=None):\n",
    "    np.random.seed(random_state)\n",
    "    n = len(y_true)\n",
    "    metrics_list = []\n",
    "\n",
    "    for _ in range(n_bootstrap):\n",
    "        idx = np.random.choice(range(n), size=n, replace=True)\n",
    "        metrics = compute_metrics(y_true[idx], y_pred[idx])\n",
    "        metrics_list.append(metrics)\n",
    "    \n",
    "    return metrics_list\n"
   ]
  },
  {
   "cell_type": "code",
   "execution_count": 14,
   "id": "f5319484",
   "metadata": {},
   "outputs": [],
   "source": [
    "def compute_confidence_intervals(metrics_list, alpha=0.05):\n",
    "    keys = metrics_list[0].keys()\n",
    "    ci_dict = {}\n",
    "    for key in keys:\n",
    "        values = [m[key] for m in metrics_list]\n",
    "        lower = np.percentile(values, 100 * alpha / 2)\n",
    "        upper = np.percentile(values, 100 * (1 - alpha / 2))\n",
    "        mean = np.mean(values)\n",
    "        ci_dict[key] = (mean, lower, upper)\n",
    "    \n",
    "    return ci_dict\n"
   ]
  },
  {
   "cell_type": "code",
   "execution_count": 15,
   "id": "63d9ce35",
   "metadata": {},
   "outputs": [
    {
     "name": "stdout",
     "output_type": "stream",
     "text": [
      "110/110 [==============================] - 8s 46ms/step\n",
      "120/120 [==============================] - 6s 49ms/step\n"
     ]
    }
   ],
   "source": [
    "y_true_healthy = y_windows_test.flatten()\n",
    "y_pred_healthy = model.predict(X_windows_test).flatten()\n",
    "metrics_boot_healthy = bootstrap_metrics(y_true_healthy, y_pred_healthy)\n",
    "ci_healthy = compute_confidence_intervals(metrics_boot_healthy)\n",
    "\n",
    "y_true_sick = y_windows_test_sick.flatten()\n",
    "y_pred_sick = model.predict(X_windows_test_sick).flatten()\n",
    "metrics_boot_sick = bootstrap_metrics(y_true_sick, y_pred_sick)\n",
    "ci_sick = compute_confidence_intervals(metrics_boot_sick)\n"
   ]
  },
  {
   "cell_type": "code",
   "execution_count": 16,
   "id": "0bb52cde",
   "metadata": {},
   "outputs": [
    {
     "name": "stdout",
     "output_type": "stream",
     "text": [
      "Healthy subjects:\n",
      "MAE_norm: 0.258 (IC 95%: 0.252 - 0.265)\n",
      "MSE_norm: 0.106 (IC 95%: 0.102 - 0.112)\n",
      "MAE_denorm: 8.141 (IC 95%: 7.933 - 8.352)\n",
      "MSE_denorm: 105.588 (IC 95%: 100.834 - 110.734)\n",
      "MAE_denorm_div7: 1.163 (IC 95%: 1.133 - 1.193)\n",
      "MSE_denorm_div7: 15.084 (IC 95%: 14.405 - 15.819)\n",
      "R2: 0.258 (IC 95%: 0.234 - 0.283)\n",
      "Pearson: 0.508 (IC 95%: 0.485 - 0.534)\n",
      "Spearman: 0.500 (IC 95%: 0.474 - 0.525)\n",
      "P_value: 0.000 (IC 95%: 0.000 - 0.000)\n",
      "Slope: 0.253 (IC 95%: 0.239 - 0.268)\n",
      "\n",
      "Sick subjects:\n",
      "MAE_norm: 0.506 (IC 95%: 0.491 - 0.519)\n",
      "MSE_norm: 0.453 (IC 95%: 0.430 - 0.477)\n",
      "MAE_denorm: 15.928 (IC 95%: 15.475 - 16.364)\n",
      "MSE_denorm: 449.620 (IC 95%: 426.606 - 473.373)\n",
      "MAE_denorm_div7: 2.275 (IC 95%: 2.211 - 2.338)\n",
      "MSE_denorm_div7: 64.231 (IC 95%: 60.944 - 67.625)\n",
      "R2: 0.211 (IC 95%: 0.191 - 0.234)\n",
      "Pearson: 0.653 (IC 95%: 0.635 - 0.670)\n",
      "Spearman: 0.661 (IC 95%: 0.641 - 0.679)\n",
      "P_value: 0.000 (IC 95%: 0.000 - 0.000)\n",
      "Slope: 0.212 (IC 95%: 0.204 - 0.221)\n"
     ]
    }
   ],
   "source": [
    "print(\"Healthy subjects:\")\n",
    "for metrica, (mean, lower, upper) in ci_healthy.items():\n",
    "    print(f\"{metrica}: {mean:.3f} (IC 95%: {lower:.3f} - {upper:.3f})\")\n",
    "\n",
    "print(\"\\nSick subjects:\")\n",
    "for metrica, (mean, lower, upper) in ci_sick.items():\n",
    "    print(f\"{metrica}: {mean:.3f} (IC 95%: {lower:.3f} - {upper:.3f})\")\n"
   ]
  },
  {
   "cell_type": "code",
   "execution_count": 17,
   "id": "4c9868f2",
   "metadata": {},
   "outputs": [
    {
     "name": "stdout",
     "output_type": "stream",
     "text": [
      "-0.7142857142857135\n",
      "0.5873015873015888\n"
     ]
    }
   ],
   "source": [
    "lower = np.percentile(y_true_healthy, 5)\n",
    "upper = np.percentile(y_true_healthy, 95)\n",
    "print(lower)\n",
    "print(upper)\n",
    "\n",
    "mask = (y_true_healthy >= lower) & (y_true_healthy <= upper)\n",
    "#print(len(y_true), len(y_true_sick), len(y_pred), len(y_pred_sick))\n",
    "mask_sick = (y_true_sick >= lower) & (y_true_sick <= upper)\n",
    "\n",
    "filtered_y_true = np.array(y_true_healthy)[mask]\n",
    "filtered_y_pred = np.array(y_pred_healthy)[mask]\n",
    "filtered_y_true_sick = np.array(y_true_sick)[mask_sick]\n",
    "filtered_y_pred_sick = np.array(y_pred_sick)[mask_sick]"
   ]
  },
  {
   "cell_type": "code",
   "execution_count": 18,
   "id": "8d141a25",
   "metadata": {},
   "outputs": [
    {
     "name": "stdout",
     "output_type": "stream",
     "text": [
      "Healthy subjects (filtered):\n",
      "MAE_norm: 0.227 (IC 95%: 0.220 - 0.233)\n",
      "MSE_norm: 0.080 (IC 95%: 0.076 - 0.084)\n",
      "MAE_denorm: 7.136 (IC 95%: 6.943 - 7.324)\n",
      "MSE_denorm: 79.125 (IC 95%: 75.278 - 82.883)\n",
      "MAE_denorm_div7: 1.019 (IC 95%: 0.992 - 1.046)\n",
      "MSE_denorm_div7: 11.304 (IC 95%: 10.754 - 11.840)\n",
      "R2: 0.189 (IC 95%: 0.157 - 0.220)\n",
      "Pearson: 0.453 (IC 95%: 0.425 - 0.480)\n",
      "Spearman: 0.449 (IC 95%: 0.420 - 0.477)\n",
      "P_value: 0.000 (IC 95%: 0.000 - 0.000)\n",
      "Slope: 0.261 (IC 95%: 0.242 - 0.280)\n",
      "\n",
      "Sick subjects (filtered):\n",
      "MAE_norm: 0.256 (IC 95%: 0.249 - 0.263)\n",
      "MSE_norm: 0.100 (IC 95%: 0.095 - 0.105)\n",
      "MAE_denorm: 8.067 (IC 95%: 7.845 - 8.293)\n",
      "MSE_denorm: 99.032 (IC 95%: 93.979 - 103.839)\n",
      "MAE_denorm_div7: 1.152 (IC 95%: 1.121 - 1.185)\n",
      "MSE_denorm_div7: 14.147 (IC 95%: 13.426 - 14.834)\n",
      "R2: 0.224 (IC 95%: 0.191 - 0.258)\n",
      "Pearson: 0.481 (IC 95%: 0.452 - 0.512)\n",
      "Spearman: 0.484 (IC 95%: 0.453 - 0.516)\n",
      "P_value: 0.000 (IC 95%: 0.000 - 0.000)\n",
      "Slope: 0.273 (IC 95%: 0.253 - 0.293)\n"
     ]
    }
   ],
   "source": [
    "metrics_boot_healthy_filtered = bootstrap_metrics(filtered_y_true, filtered_y_pred)\n",
    "ci_healthy_filtered = compute_confidence_intervals(metrics_boot_healthy_filtered)\n",
    "metrics_boot_sick_filtered = bootstrap_metrics(filtered_y_true_sick, filtered_y_pred_sick)\n",
    "ci_sick_filtered = compute_confidence_intervals(metrics_boot_sick_filtered)\n",
    "print(\"Healthy subjects (filtered):\")\n",
    "for metrica, (mean, lower, upper) in ci_healthy_filtered.items():\n",
    "    print(f\"{metrica}: {mean:.3f} (IC 95%: {lower:.3f} - {upper:.3f})\")\n",
    "print(\"\\nSick subjects (filtered):\")\n",
    "for metrica, (mean, lower, upper) in ci_sick_filtered.items():\n",
    "    print(f\"{metrica}: {mean:.3f} (IC 95%: {lower:.3f} - {upper:.3f})\")"
   ]
  },
  {
   "cell_type": "code",
   "execution_count": 19,
   "id": "d6772d57",
   "metadata": {},
   "outputs": [
    {
     "name": "stdout",
     "output_type": "stream",
     "text": [
      "                         Media        IC 2.5%       IC 97.5%\n",
      "MAE_norm          2.584381e-01   2.518415e-01   2.651383e-01\n",
      "MSE_norm          1.064123e-01   1.016217e-01   1.115991e-01\n",
      "MAE_denorm        8.140801e+00   7.933008e+00   8.351857e+00\n",
      "MSE_denorm        1.055876e+02   1.008341e+02   1.107342e+02\n",
      "MAE_denorm_div7   1.162972e+00   1.133287e+00   1.193122e+00\n",
      "MSE_denorm_div7   1.508395e+01   1.440487e+01   1.581918e+01\n",
      "R2                2.575347e-01   2.339057e-01   2.832260e-01\n",
      "Pearson           5.080827e-01   4.845255e-01   5.337867e-01\n",
      "Spearman          4.995963e-01   4.737058e-01   5.247735e-01\n",
      "P_value          5.059736e-194  3.865079e-257  1.399544e-205\n",
      "Slope             2.534068e-01   2.387653e-01   2.682488e-01\n",
      "                      Media     IC 2.5%    IC 97.5%\n",
      "MAE_norm           0.505656    0.491269    0.519489\n",
      "MSE_norm           0.453132    0.429938    0.477070\n",
      "MAE_denorm        15.928176   15.474967   16.363890\n",
      "MSE_denorm       449.620119  426.606175  473.373034\n",
      "MAE_denorm_div7    2.275454    2.210710    2.337699\n",
      "MSE_denorm_div7   64.231446   60.943739   67.624719\n",
      "R2                 0.211325    0.191287    0.233771\n",
      "Pearson            0.652842    0.634597    0.670359\n",
      "Spearman           0.660945    0.641154    0.678806\n",
      "P_value            0.000000    0.000000    0.000000\n",
      "Slope              0.212399    0.204397    0.220733\n",
      "                         Media        IC 2.5%       IC 97.5%\n",
      "MAE_norm          2.265292e-01   2.203974e-01   2.325013e-01\n",
      "MSE_norm          7.974346e-02   7.586595e-02   8.353075e-02\n",
      "MAE_denorm        7.135670e+00   6.942519e+00   7.323792e+00\n",
      "MSE_denorm        7.912545e+01   7.527800e+01   8.288340e+01\n",
      "MAE_denorm_div7   1.019381e+00   9.917885e-01   1.046256e+00\n",
      "MSE_denorm_div7   1.130364e+01   1.075400e+01   1.184049e+01\n",
      "R2                1.891876e-01   1.568881e-01   2.202693e-01\n",
      "Pearson           4.528713e-01   4.245451e-01   4.795474e-01\n",
      "Spearman          4.490352e-01   4.201733e-01   4.769958e-01\n",
      "P_value          2.782646e-132  2.834220e-183  7.173816e-140\n",
      "Slope             2.612840e-01   2.424020e-01   2.796667e-01\n",
      "                         Media        IC 2.5%       IC 97.5%\n",
      "MAE_norm          2.560808e-01   2.490480e-01   2.632597e-01\n",
      "MSE_norm          9.980548e-02   9.471334e-02   1.046499e-01\n",
      "MAE_denorm        8.066547e+00   7.845012e+00   8.292680e+00\n",
      "MSE_denorm        9.903199e+01   9.397931e+01   1.038388e+02\n",
      "MAE_denorm_div7   1.152364e+00   1.120716e+00   1.184669e+00\n",
      "MSE_denorm_div7   1.414743e+01   1.342562e+01   1.483412e+01\n",
      "R2                2.241056e-01   1.910325e-01   2.584149e-01\n",
      "Pearson           4.814615e-01   4.524018e-01   5.117830e-01\n",
      "Spearman          4.836985e-01   4.531798e-01   5.155013e-01\n",
      "P_value          4.498000e-120  3.292892e-163  1.485175e-123\n",
      "Slope             2.730716e-01   2.532920e-01   2.925406e-01\n"
     ]
    }
   ],
   "source": [
    "df_healthy = pd.DataFrame(ci_healthy, index=['Media', 'IC 2.5%', 'IC 97.5%']).T\n",
    "print(df_healthy)\n",
    "df_sick = pd.DataFrame(ci_sick, index=['Media', 'IC 2.5%', 'IC 97.5%']).T\n",
    "print(df_sick)\n",
    "df_healthy_filtered = pd.DataFrame(ci_healthy_filtered, index=['Media', 'IC 2.5%', 'IC 97.5%']).T\n",
    "print(df_healthy_filtered)\n",
    "df_sick_filtered = pd.DataFrame(ci_sick_filtered, index=['Media', 'IC 2.5%', 'IC 97.5%']).T\n",
    "print(df_sick_filtered)"
   ]
  },
  {
   "cell_type": "markdown",
   "id": "bd367e8a",
   "metadata": {},
   "source": [
    "Inception Net"
   ]
  },
  {
   "cell_type": "code",
   "execution_count": 21,
   "id": "fe1f4a70",
   "metadata": {},
   "outputs": [],
   "source": [
    "model_inc = load_model(r'C:\\Users\\Utente\\Desktop\\Chiara\\Codici\\Cose nuove\\Nuovi\\Final_mean\\Codes\\Trained models\\Inception_ResNet_v1.keras')"
   ]
  },
  {
   "cell_type": "code",
   "execution_count": 22,
   "id": "58177c21",
   "metadata": {},
   "outputs": [
    {
     "name": "stdout",
     "output_type": "stream",
     "text": [
      "110/110 [==============================] - 10s 76ms/step\n",
      "120/120 [==============================] - 9s 79ms/step\n"
     ]
    }
   ],
   "source": [
    "#y_true_healthy = y_windows_test.flatten()\n",
    "y_pred_healthy_inc = model_inc.predict(X_windows_test).flatten()\n",
    "metrics_boot_healthy_inc = bootstrap_metrics(y_true_healthy, y_pred_healthy_inc)\n",
    "ci_healthy_inc = compute_confidence_intervals(metrics_boot_healthy_inc)\n",
    "\n",
    "#y_true_sick = y_windows_test_sick.flatten()\n",
    "y_pred_sick_inc = model_inc.predict(X_windows_test_sick).flatten()\n",
    "metrics_boot_sick_inc = bootstrap_metrics(y_true_sick, y_pred_sick_inc)\n",
    "ci_sick_inc = compute_confidence_intervals(metrics_boot_sick_inc)"
   ]
  },
  {
   "cell_type": "code",
   "execution_count": 23,
   "id": "a3936f6d",
   "metadata": {},
   "outputs": [
    {
     "name": "stdout",
     "output_type": "stream",
     "text": [
      "Healthy subjects:\n",
      "MAE_norm: 0.301 (IC 95%: 0.293 - 0.308)\n",
      "MSE_norm: 0.144 (IC 95%: 0.137 - 0.150)\n",
      "MAE_denorm: 9.481 (IC 95%: 9.238 - 9.717)\n",
      "MSE_denorm: 142.656 (IC 95%: 136.401 - 148.733)\n",
      "MAE_denorm_div7: 1.354 (IC 95%: 1.320 - 1.388)\n",
      "MSE_denorm_div7: 20.379 (IC 95%: 19.486 - 21.248)\n",
      "R2: -0.004 (IC 95%: -0.010 - -0.001)\n",
      "Pearson: 0.023 (IC 95%: -0.009 - 0.056)\n",
      "Spearman: 0.026 (IC 95%: -0.007 - 0.060)\n",
      "P_value: 0.275 (IC 95%: 0.001 - 0.917)\n",
      "Slope: 0.000 (IC 95%: -0.000 - 0.001)\n",
      "\n",
      "Sick subjects:\n",
      "MAE_norm: 0.625 (IC 95%: 0.607 - 0.641)\n",
      "MSE_norm: 0.670 (IC 95%: 0.637 - 0.701)\n",
      "MAE_denorm: 19.685 (IC 95%: 19.124 - 20.198)\n",
      "MSE_denorm: 664.400 (IC 95%: 632.540 - 695.167)\n",
      "MAE_denorm_div7: 2.812 (IC 95%: 2.732 - 2.885)\n",
      "MSE_denorm_div7: 94.914 (IC 95%: 90.363 - 99.310)\n",
      "R2: -0.166 (IC 95%: -0.190 - -0.143)\n",
      "Pearson: 0.109 (IC 95%: 0.075 - 0.140)\n",
      "Spearman: 0.076 (IC 95%: 0.044 - 0.107)\n",
      "P_value: 0.000 (IC 95%: 0.000 - 0.000)\n",
      "Slope: 0.001 (IC 95%: 0.000 - 0.001)\n"
     ]
    }
   ],
   "source": [
    "print(\"Healthy subjects:\")\n",
    "for metrica, (mean, lower, upper) in ci_healthy_inc.items():\n",
    "    print(f\"{metrica}: {mean:.3f} (IC 95%: {lower:.3f} - {upper:.3f})\")\n",
    "\n",
    "print(\"\\nSick subjects:\")\n",
    "for metrica, (mean, lower, upper) in ci_sick_inc.items():\n",
    "    print(f\"{metrica}: {mean:.3f} (IC 95%: {lower:.3f} - {upper:.3f})\")\n"
   ]
  },
  {
   "cell_type": "code",
   "execution_count": 24,
   "id": "5f4091a8",
   "metadata": {},
   "outputs": [],
   "source": [
    "#filtered_y_true = np.array(y_true_healthy)[mask]\n",
    "filtered_y_pred_inc = np.array(y_pred_healthy_inc)[mask]\n",
    "#filtered_y_true_sick = np.array(y_true_sick)[mask_sick]\n",
    "filtered_y_pred_sick_inc = np.array(y_pred_sick_inc)[mask_sick]"
   ]
  },
  {
   "cell_type": "code",
   "execution_count": 25,
   "id": "a5d0d2ef",
   "metadata": {},
   "outputs": [
    {
     "name": "stdout",
     "output_type": "stream",
     "text": [
      "Healthy subjects (filtered):\n",
      "MAE_norm: 0.256 (IC 95%: 0.249 - 0.262)\n",
      "MSE_norm: 0.099 (IC 95%: 0.094 - 0.103)\n",
      "MAE_denorm: 8.049 (IC 95%: 7.846 - 8.253)\n",
      "MSE_denorm: 97.986 (IC 95%: 93.633 - 102.503)\n",
      "MAE_denorm_div7: 1.150 (IC 95%: 1.121 - 1.179)\n",
      "MSE_denorm_div7: 13.998 (IC 95%: 13.376 - 14.643)\n",
      "R2: -0.004 (IC 95%: -0.009 - -0.000)\n",
      "Pearson: 0.050 (IC 95%: 0.012 - 0.083)\n",
      "Spearman: 0.049 (IC 95%: 0.011 - 0.083)\n",
      "P_value: 0.051 (IC 95%: 0.000 - 0.490)\n",
      "Slope: 0.001 (IC 95%: 0.000 - 0.001)\n",
      "\n",
      "Sick subjects (filtered):\n",
      "MAE_norm: 0.302 (IC 95%: 0.294 - 0.310)\n",
      "MSE_norm: 0.128 (IC 95%: 0.123 - 0.134)\n",
      "MAE_denorm: 9.515 (IC 95%: 9.270 - 9.763)\n",
      "MSE_denorm: 127.460 (IC 95%: 122.159 - 132.792)\n",
      "MAE_denorm_div7: 1.359 (IC 95%: 1.324 - 1.395)\n",
      "MSE_denorm_div7: 18.209 (IC 95%: 17.451 - 18.970)\n",
      "R2: 0.000 (IC 95%: -0.002 - 0.002)\n",
      "Pearson: 0.053 (IC 95%: 0.013 - 0.094)\n",
      "Spearman: 0.050 (IC 95%: 0.008 - 0.090)\n",
      "P_value: 0.062 (IC 95%: 0.000 - 0.531)\n",
      "Slope: 0.001 (IC 95%: 0.000 - 0.001)\n"
     ]
    }
   ],
   "source": [
    "metrics_boot_healthy_filtered_inc = bootstrap_metrics(filtered_y_true, filtered_y_pred_inc)\n",
    "ci_healthy_filtered_inc = compute_confidence_intervals(metrics_boot_healthy_filtered_inc)\n",
    "metrics_boot_sick_filtered_inc = bootstrap_metrics(filtered_y_true_sick, filtered_y_pred_sick_inc)\n",
    "ci_sick_filtered_inc = compute_confidence_intervals(metrics_boot_sick_filtered_inc)\n",
    "print(\"Healthy subjects (filtered):\")\n",
    "for metrica, (mean, lower, upper) in ci_healthy_filtered_inc.items():\n",
    "    print(f\"{metrica}: {mean:.3f} (IC 95%: {lower:.3f} - {upper:.3f})\")\n",
    "print(\"\\nSick subjects (filtered):\")\n",
    "for metrica, (mean, lower, upper) in ci_sick_filtered_inc.items():\n",
    "    print(f\"{metrica}: {mean:.3f} (IC 95%: {lower:.3f} - {upper:.3f})\")"
   ]
  },
  {
   "cell_type": "code",
   "execution_count": 26,
   "id": "9966a96e",
   "metadata": {},
   "outputs": [
    {
     "name": "stdout",
     "output_type": "stream",
     "text": [
      "                      Media     IC 2.5%    IC 97.5%\n",
      "MAE_norm           0.300980    0.293286    0.308474\n",
      "MSE_norm           0.143770    0.137467    0.149894\n",
      "MAE_denorm         9.480881    9.238498    9.716934\n",
      "MSE_denorm       142.655830  136.401449  148.732583\n",
      "MAE_denorm_div7    1.354412    1.319785    1.388133\n",
      "MSE_denorm_div7   20.379404   19.485921   21.247512\n",
      "R2                -0.004413   -0.009666   -0.000686\n",
      "Pearson            0.022932   -0.009438    0.055613\n",
      "Spearman           0.026096   -0.006623    0.059689\n",
      "P_value            0.274821    0.000995    0.916649\n",
      "Slope              0.000256   -0.000107    0.000621\n",
      "                      Media       IC 2.5%    IC 97.5%\n",
      "MAE_norm           0.624932  6.071184e-01    0.641198\n",
      "MSE_norm           0.669589  6.374806e-01    0.700596\n",
      "MAE_denorm        19.685342  1.912423e+01   20.197735\n",
      "MSE_denorm       664.400159  6.325401e+02  695.166809\n",
      "MAE_denorm_div7    2.812192  2.732033e+00    2.885391\n",
      "MSE_denorm_div7   94.914308  9.036287e+01   99.309544\n",
      "R2                -0.166394 -1.903921e-01   -0.143347\n",
      "Pearson            0.109243  7.516160e-02    0.140326\n",
      "Spearman           0.076186  4.407689e-02    0.107221\n",
      "P_value            0.000002  2.538721e-18    0.000003\n",
      "Slope              0.000612  4.261505e-04    0.000786\n",
      "                     Media    IC 2.5%    IC 97.5%\n",
      "MAE_norm          0.255515   0.249084    0.261997\n",
      "MSE_norm          0.098752   0.094365    0.103304\n",
      "MAE_denorm        8.048713   7.846157    8.252891\n",
      "MSE_denorm       97.986490  93.633183  102.502966\n",
      "MAE_denorm_div7   1.149816   1.120880    1.178984\n",
      "MSE_denorm_div7  13.998070  13.376169   14.643281\n",
      "R2               -0.003982  -0.009431   -0.000084\n",
      "Pearson           0.050081   0.012227    0.083474\n",
      "Spearman          0.049195   0.010805    0.083254\n",
      "P_value           0.051289   0.000002    0.489858\n",
      "Slope             0.000671   0.000165    0.001122\n",
      "                      Media     IC 2.5%    IC 97.5%\n",
      "MAE_norm           0.302048    0.294299    0.309937\n",
      "MSE_norm           0.128455    0.123113    0.133829\n",
      "MAE_denorm         9.514503    9.270417    9.763025\n",
      "MSE_denorm       127.459519  122.158695  132.792198\n",
      "MAE_denorm_div7    1.359215    1.324345    1.394718\n",
      "MSE_denorm_div7   18.208503   17.451242   18.970314\n",
      "R2                 0.000386   -0.002256    0.001826\n",
      "Pearson            0.053294    0.012518    0.093534\n",
      "Spearman           0.049568    0.008086    0.089567\n",
      "P_value            0.062344    0.000004    0.530571\n",
      "Slope              0.000609    0.000143    0.001073\n"
     ]
    }
   ],
   "source": [
    "df_healthy_inc = pd.DataFrame(ci_healthy_inc, index=['Media', 'IC 2.5%', 'IC 97.5%']).T\n",
    "print(df_healthy_inc)\n",
    "df_sick_inc = pd.DataFrame(ci_sick_inc, index=['Media', 'IC 2.5%', 'IC 97.5%']).T\n",
    "print(df_sick_inc)\n",
    "df_healthy_filtered_inc = pd.DataFrame(ci_healthy_filtered_inc, index=['Media', 'IC 2.5%', 'IC 97.5%']).T\n",
    "print(df_healthy_filtered_inc)\n",
    "df_sick_filtered_inc = pd.DataFrame(ci_sick_filtered_inc, index=['Media', 'IC 2.5%', 'IC 97.5%']).T\n",
    "print(df_sick_filtered_inc)"
   ]
  },
  {
   "cell_type": "markdown",
   "id": "54db369c",
   "metadata": {},
   "source": [
    "ResNet with activity state"
   ]
  },
  {
   "cell_type": "code",
   "execution_count": 28,
   "id": "4d406250",
   "metadata": {},
   "outputs": [],
   "source": [
    "model_qa = load_model(r'C:\\Users\\Utente\\Desktop\\Chiara\\Codici\\Cose nuove\\Nuovi\\Final_mean\\Codes\\Trained models\\model_with_QA_mean.keras')"
   ]
  },
  {
   "cell_type": "code",
   "execution_count": 29,
   "id": "c1ccd738",
   "metadata": {},
   "outputs": [],
   "source": [
    "train_q_a = pd.read_pickle(r\"C:\\Users\\Utente\\Desktop\\Chiara\\DockerImage\\softmax_predictions_train_non_norm.pkl\")\n",
    "test_q_a = pd.read_pickle(r\"C:\\Users\\Utente\\Desktop\\Chiara\\DockerImage\\softmax_predictions_test_non_norm.pkl\")\n",
    "test_sick_q_a = pd.read_pickle(r\"C:\\Users\\Utente\\Desktop\\Chiara\\DockerImage\\softmax_predictions_test_sick_non_norm.pkl\")"
   ]
  },
  {
   "cell_type": "code",
   "execution_count": 30,
   "id": "62dc3714",
   "metadata": {},
   "outputs": [],
   "source": [
    "train = pd.concat([train, train_q_a], axis=1)\n",
    "test = pd.concat([test_healthy, test_q_a], axis=1)\n",
    "test_sick = pd.concat([test_sick, test_sick_q_a], axis=1)"
   ]
  },
  {
   "cell_type": "code",
   "execution_count": 31,
   "id": "c86f6e2e",
   "metadata": {},
   "outputs": [],
   "source": [
    "X_windows_train, y_windows_train= WindowSignals(train['signals'], train['y'])\n",
    "X_windows_test, y_windows_test = WindowSignals(test['signals'], test['y'])\n",
    "X_windows_test_sick, y_windows_test_sick = WindowSignals(test_sick['signals'], test_sick['y'])\n",
    "\n",
    "X_windows_train_qa, y_windows_train= WindowSignals(train['softmax_prediction_list'], train['y'])\n",
    "X_windows_test_qa, y_windows_test_qa = WindowSignals(test['softmax_prediction_list'], test['y'])\n",
    "X_windows_test_sick_qa, y_windows_test_sick_qa = WindowSignals(test_sick['softmax_prediction_list'], test_sick['y'])"
   ]
  },
  {
   "cell_type": "code",
   "execution_count": 32,
   "id": "73a43c9b",
   "metadata": {},
   "outputs": [],
   "source": [
    "y_windows_test_scaled = scaler.transform(y_windows_test.reshape(-1, 1))\n",
    "y_windows_test_sick_scaled = scaler.transform(y_windows_test_sick.reshape(-1, 1))\n",
    "y_windows_test = y_windows_test_scaled\n",
    "y_windows_test_sick = y_windows_test_sick_scaled"
   ]
  },
  {
   "cell_type": "code",
   "execution_count": 33,
   "id": "b5303dd1",
   "metadata": {},
   "outputs": [],
   "source": [
    "X_test = np.stack([X_windows_test, X_windows_test_qa], axis=-1)  # (batch_size, timesteps, 2)\n",
    "X_test_sick = np.stack([X_windows_test_sick, X_windows_test_sick_qa], axis=-1)  # (batch_size, timesteps, 2)"
   ]
  },
  {
   "cell_type": "code",
   "execution_count": 34,
   "id": "2979d118",
   "metadata": {},
   "outputs": [],
   "source": [
    "X_windows_test = tf.convert_to_tensor(X_test, dtype=tf.float32)\n",
    "X_windows_test_sick = tf.convert_to_tensor(X_test_sick, dtype=tf.float32)"
   ]
  },
  {
   "cell_type": "code",
   "execution_count": 35,
   "id": "0d3aed22",
   "metadata": {},
   "outputs": [],
   "source": [
    "y_windows_test = tf.convert_to_tensor(y_windows_test, dtype=tf.float32)\n",
    "y_windows_test_sick = tf.convert_to_tensor(y_windows_test_sick, dtype=tf.float32)"
   ]
  },
  {
   "cell_type": "code",
   "execution_count": 36,
   "id": "83e1107b",
   "metadata": {},
   "outputs": [
    {
     "name": "stdout",
     "output_type": "stream",
     "text": [
      "110/110 [==============================] - 6s 45ms/step\n",
      "120/120 [==============================] - 5s 45ms/step\n"
     ]
    }
   ],
   "source": [
    "#y_true_healthy = y_windows_test.flatten()\n",
    "y_pred_healthy_qa = model_qa.predict(X_windows_test).flatten()\n",
    "metrics_boot_healthy_qa = bootstrap_metrics(y_true_healthy, y_pred_healthy_qa)\n",
    "ci_healthy_qa = compute_confidence_intervals(metrics_boot_healthy_qa)\n",
    "\n",
    "#y_true_sick = y_windows_test_sick.flatten()\n",
    "y_pred_sick_qa = model_qa.predict(X_windows_test_sick).flatten()\n",
    "metrics_boot_sick_qa = bootstrap_metrics(y_true_sick, y_pred_sick_qa)\n",
    "ci_sick_qa = compute_confidence_intervals(metrics_boot_sick_qa)"
   ]
  },
  {
   "cell_type": "code",
   "execution_count": 37,
   "id": "d3e00534",
   "metadata": {},
   "outputs": [
    {
     "name": "stdout",
     "output_type": "stream",
     "text": [
      "Healthy subjects:\n",
      "MAE_norm: 0.257 (IC 95%: 0.250 - 0.264)\n",
      "MSE_norm: 0.105 (IC 95%: 0.100 - 0.110)\n",
      "MAE_denorm: 8.095 (IC 95%: 7.882 - 8.313)\n",
      "MSE_denorm: 104.636 (IC 95%: 99.674 - 109.605)\n",
      "MAE_denorm_div7: 1.156 (IC 95%: 1.126 - 1.188)\n",
      "MSE_denorm_div7: 14.948 (IC 95%: 14.239 - 15.658)\n",
      "R2: 0.264 (IC 95%: 0.242 - 0.286)\n",
      "Pearson: 0.520 (IC 95%: 0.496 - 0.545)\n",
      "Spearman: 0.517 (IC 95%: 0.494 - 0.541)\n",
      "P_value: 0.000 (IC 95%: 0.000 - 0.000)\n",
      "Slope: 0.229 (IC 95%: 0.216 - 0.242)\n",
      "\n",
      "Sick subjects:\n",
      "MAE_norm: 0.517 (IC 95%: 0.502 - 0.530)\n",
      "MSE_norm: 0.467 (IC 95%: 0.443 - 0.490)\n",
      "MAE_denorm: 16.271 (IC 95%: 15.814 - 16.710)\n",
      "MSE_denorm: 463.082 (IC 95%: 439.626 - 486.128)\n",
      "MAE_denorm_div7: 2.324 (IC 95%: 2.259 - 2.387)\n",
      "MSE_denorm_div7: 66.155 (IC 95%: 62.804 - 69.447)\n",
      "R2: 0.187 (IC 95%: 0.167 - 0.207)\n",
      "Pearson: 0.663 (IC 95%: 0.645 - 0.681)\n",
      "Spearman: 0.666 (IC 95%: 0.648 - 0.684)\n",
      "P_value: 0.000 (IC 95%: 0.000 - 0.000)\n",
      "Slope: 0.186 (IC 95%: 0.179 - 0.193)\n"
     ]
    }
   ],
   "source": [
    "print(\"Healthy subjects:\")\n",
    "for metrica, (mean, lower, upper) in ci_healthy_qa.items():\n",
    "    print(f\"{metrica}: {mean:.3f} (IC 95%: {lower:.3f} - {upper:.3f})\")\n",
    "\n",
    "print(\"\\nSick subjects:\")\n",
    "for metrica, (mean, lower, upper) in ci_sick_qa.items():\n",
    "    print(f\"{metrica}: {mean:.3f} (IC 95%: {lower:.3f} - {upper:.3f})\")\n"
   ]
  },
  {
   "cell_type": "code",
   "execution_count": 38,
   "id": "b7db3beb",
   "metadata": {},
   "outputs": [],
   "source": [
    "#filtered_y_true = np.array(y_true_healthy)[mask]\n",
    "filtered_y_pred_qa = np.array(y_pred_healthy_qa)[mask]\n",
    "#filtered_y_true_sick = np.array(y_true_sick)[mask_sick]\n",
    "filtered_y_pred_sick_qa = np.array(y_pred_sick_qa)[mask_sick]"
   ]
  },
  {
   "cell_type": "code",
   "execution_count": 39,
   "id": "17bafa98",
   "metadata": {},
   "outputs": [
    {
     "name": "stdout",
     "output_type": "stream",
     "text": [
      "Healthy subjects (filtered):\n",
      "MAE_norm: 0.223 (IC 95%: 0.217 - 0.229)\n",
      "MSE_norm: 0.077 (IC 95%: 0.074 - 0.081)\n",
      "MAE_denorm: 7.033 (IC 95%: 6.843 - 7.216)\n",
      "MSE_denorm: 76.542 (IC 95%: 72.958 - 80.443)\n",
      "MAE_denorm_div7: 1.005 (IC 95%: 0.978 - 1.031)\n",
      "MSE_denorm_div7: 10.935 (IC 95%: 10.423 - 11.492)\n",
      "R2: 0.217 (IC 95%: 0.187 - 0.245)\n",
      "Pearson: 0.468 (IC 95%: 0.438 - 0.496)\n",
      "Spearman: 0.468 (IC 95%: 0.439 - 0.494)\n",
      "P_value: 0.000 (IC 95%: 0.000 - 0.000)\n",
      "Slope: 0.237 (IC 95%: 0.220 - 0.254)\n",
      "\n",
      "Sick subjects (filtered):\n",
      "MAE_norm: 0.258 (IC 95%: 0.250 - 0.265)\n",
      "MSE_norm: 0.100 (IC 95%: 0.095 - 0.105)\n",
      "MAE_denorm: 8.115 (IC 95%: 7.886 - 8.340)\n",
      "MSE_denorm: 98.949 (IC 95%: 94.074 - 103.911)\n",
      "MAE_denorm_div7: 1.159 (IC 95%: 1.127 - 1.191)\n",
      "MSE_denorm_div7: 14.136 (IC 95%: 13.439 - 14.844)\n",
      "R2: 0.225 (IC 95%: 0.192 - 0.254)\n",
      "Pearson: 0.475 (IC 95%: 0.442 - 0.506)\n",
      "Spearman: 0.476 (IC 95%: 0.442 - 0.507)\n",
      "P_value: 0.000 (IC 95%: 0.000 - 0.000)\n",
      "Slope: 0.231 (IC 95%: 0.214 - 0.248)\n"
     ]
    }
   ],
   "source": [
    "metrics_boot_healthy_filtered_qa = bootstrap_metrics(filtered_y_true, filtered_y_pred_qa)\n",
    "ci_healthy_filtered_qa = compute_confidence_intervals(metrics_boot_healthy_filtered_qa)\n",
    "metrics_boot_sick_filtered_qa = bootstrap_metrics(filtered_y_true_sick, filtered_y_pred_sick_qa)\n",
    "ci_sick_filtered_qa = compute_confidence_intervals(metrics_boot_sick_filtered_qa)\n",
    "print(\"Healthy subjects (filtered):\")\n",
    "for metrica, (mean, lower, upper) in ci_healthy_filtered_qa.items():\n",
    "    print(f\"{metrica}: {mean:.3f} (IC 95%: {lower:.3f} - {upper:.3f})\")\n",
    "print(\"\\nSick subjects (filtered):\")\n",
    "for metrica, (mean, lower, upper) in ci_sick_filtered_qa.items():\n",
    "    print(f\"{metrica}: {mean:.3f} (IC 95%: {lower:.3f} - {upper:.3f})\")"
   ]
  },
  {
   "cell_type": "code",
   "execution_count": 40,
   "id": "a8f8e51c",
   "metadata": {},
   "outputs": [
    {
     "name": "stdout",
     "output_type": "stream",
     "text": [
      "                         Media        IC 2.5%       IC 97.5%\n",
      "MAE_norm          2.569776e-01   2.502251e-01   2.638950e-01\n",
      "MSE_norm          1.054533e-01   1.004529e-01   1.104611e-01\n",
      "MAE_denorm        8.094793e+00   7.882092e+00   8.312693e+00\n",
      "MSE_denorm        1.046360e+02   9.967444e+01   1.096050e+02\n",
      "MAE_denorm_div7   1.156399e+00   1.126013e+00   1.187528e+00\n",
      "MSE_denorm_div7   1.494800e+01   1.423921e+01   1.565786e+01\n",
      "R2                2.636035e-01   2.422369e-01   2.861195e-01\n",
      "Pearson           5.198943e-01   4.958570e-01   5.446855e-01\n",
      "Spearman          5.165766e-01   4.935505e-01   5.411034e-01\n",
      "P_value          7.336343e-206  9.718183e-270  1.052341e-216\n",
      "Slope             2.286626e-01   2.155601e-01   2.424667e-01\n",
      "                      Media     IC 2.5%    IC 97.5%\n",
      "MAE_norm           0.516551    0.502048    0.530483\n",
      "MSE_norm           0.466699    0.443060    0.489924\n",
      "MAE_denorm        16.271365   15.814498   16.710201\n",
      "MSE_denorm       463.082121  439.626433  486.127536\n",
      "MAE_denorm_div7    2.324481    2.259214    2.387172\n",
      "MSE_denorm_div7   66.154589   62.803776   69.446791\n",
      "R2                 0.187373    0.167448    0.207270\n",
      "Pearson            0.663381    0.645090    0.680551\n",
      "Spearman           0.666177    0.647879    0.684485\n",
      "P_value            0.000000    0.000000    0.000000\n",
      "Slope              0.185676    0.178982    0.192824\n",
      "                         Media        IC 2.5%       IC 97.5%\n",
      "MAE_norm          2.232618e-01   2.172408e-01   2.290949e-01\n",
      "MSE_norm          7.713982e-02   7.352770e-02   8.107085e-02\n",
      "MAE_denorm        7.032747e+00   6.843085e+00   7.216490e+00\n",
      "MSE_denorm        7.654199e+01   7.295787e+01   8.044256e+01\n",
      "MAE_denorm_div7   1.004678e+00   9.775836e-01   1.030927e+00\n",
      "MSE_denorm_div7   1.093457e+01   1.042255e+01   1.149179e+01\n",
      "R2                2.168838e-01   1.873983e-01   2.453893e-01\n",
      "Pearson           4.676852e-01   4.384028e-01   4.955565e-01\n",
      "Spearman          4.679540e-01   4.389189e-01   4.942072e-01\n",
      "P_value          4.480198e-139  1.784902e-197  4.587904e-150\n",
      "Slope             2.369209e-01   2.200368e-01   2.535855e-01\n",
      "                         Media        IC 2.5%       IC 97.5%\n",
      "MAE_norm          2.576044e-01   2.503614e-01   2.647615e-01\n",
      "MSE_norm          9.972151e-02   9.480902e-02   1.047230e-01\n",
      "MAE_denorm        8.114537e+00   7.886385e+00   8.339986e+00\n",
      "MSE_denorm        9.894866e+01   9.407424e+01   1.039114e+02\n",
      "MAE_denorm_div7   1.159220e+00   1.126626e+00   1.191427e+00\n",
      "MSE_denorm_div7   1.413552e+01   1.343918e+01   1.484449e+01\n",
      "R2                2.250555e-01   1.924355e-01   2.544693e-01\n",
      "Pearson           4.753361e-01   4.417401e-01   5.055495e-01\n",
      "Spearman          4.762476e-01   4.416957e-01   5.070123e-01\n",
      "P_value          3.569783e-109  1.141774e-158  3.155972e-117\n",
      "Slope             2.314104e-01   2.143231e-01   2.480637e-01\n"
     ]
    }
   ],
   "source": [
    "df_healthy_qa = pd.DataFrame(ci_healthy_qa, index=['Media', 'IC 2.5%', 'IC 97.5%']).T\n",
    "print(df_healthy_qa)\n",
    "df_sick_qa = pd.DataFrame(ci_sick_qa, index=['Media', 'IC 2.5%', 'IC 97.5%']).T\n",
    "print(df_sick_qa)\n",
    "df_healthy_filtered_qa = pd.DataFrame(ci_healthy_filtered_qa, index=['Media', 'IC 2.5%', 'IC 97.5%']).T\n",
    "print(df_healthy_filtered_qa)\n",
    "df_sick_filtered_qa = pd.DataFrame(ci_sick_filtered_qa, index=['Media', 'IC 2.5%', 'IC 97.5%']).T\n",
    "print(df_sick_filtered_qa)"
   ]
  },
  {
   "cell_type": "markdown",
   "id": "b1b55abe",
   "metadata": {},
   "source": [
    "ResNet with FMP"
   ]
  },
  {
   "cell_type": "code",
   "execution_count": 42,
   "id": "99762a6c",
   "metadata": {},
   "outputs": [],
   "source": [
    "model_fmp = load_model(r'C:\\Users\\Utente\\Desktop\\Chiara\\Codici\\Cose nuove\\Nuovi\\Final_mean\\Codes\\Trained models\\model_FMP_mean.keras')"
   ]
  },
  {
   "cell_type": "code",
   "execution_count": 43,
   "id": "e2a7636e",
   "metadata": {},
   "outputs": [],
   "source": [
    "train = pd.read_pickle(r\"C:\\Users\\Utente\\Desktop\\Chiara\\SUBSET\\df_mean_train_FMP.pkl\")\n",
    "train['FHR'] = train['FHR'].apply(lambda x: x[0] if isinstance(x, list) else x)\n",
    "train['FMP'] = train['FMP'].apply(lambda x: x[0] if isinstance(x, list) else x)"
   ]
  },
  {
   "cell_type": "code",
   "execution_count": 44,
   "id": "ec89d233",
   "metadata": {},
   "outputs": [],
   "source": [
    "test = pd.read_pickle(r\"C:\\Users\\Utente\\Desktop\\Chiara\\SUBSET\\df_mean_test_FMP.pkl\")\n",
    "test['FHR'] = test['FHR'].apply(lambda x: x[0] if isinstance(x, list) else x)\n",
    "test['FMP'] = test['FMP'].apply(lambda x: x[0] if isinstance(x, list) else x)"
   ]
  },
  {
   "cell_type": "code",
   "execution_count": 45,
   "id": "ed8b4907",
   "metadata": {},
   "outputs": [],
   "source": [
    "test_sick = pd.read_pickle(r\"C:\\Users\\Utente\\Desktop\\Chiara\\SUBSET\\df_mean_malati_FMP.pkl\")\n",
    "test_sick['FHR'] = test_sick['FHR'].apply(lambda x: x[0] if isinstance(x, list) else x)\n",
    "test_sick['FMP'] = test_sick['FMP'].apply(lambda x: x[0] if isinstance(x, list) else x)"
   ]
  },
  {
   "cell_type": "code",
   "execution_count": 46,
   "id": "c2374457",
   "metadata": {},
   "outputs": [],
   "source": [
    "X_windows_train_FHR, y_windows_train= WindowSignals(train['FHR'], train['y'])\n",
    "X_windows_test_FHR, y_windows_test = WindowSignals(test['FHR'], test['y'])\n",
    "X_windows_test_sick_FHR, y_windows_test_sick = WindowSignals(test_sick['FHR'], test_sick['y'])"
   ]
  },
  {
   "cell_type": "code",
   "execution_count": 47,
   "id": "345b697a",
   "metadata": {},
   "outputs": [],
   "source": [
    "X_windows_train_FMP, y_windows_train= WindowSignals(train['FMP'], train['y'])\n",
    "X_windows_test_FMP, y_windows_test = WindowSignals(test['FMP'], test['y'])\n",
    "X_windows_test_sick_FMP, y_windows_test_sick = WindowSignals(test_sick['FHR'], test_sick['y'])"
   ]
  },
  {
   "cell_type": "code",
   "execution_count": 48,
   "id": "d5d03361",
   "metadata": {},
   "outputs": [],
   "source": [
    "scaler = MinMaxScaler(feature_range=(-1, 1))\n",
    "scaler.fit(y_windows_train.reshape(-1, 1))\n",
    "\n",
    "y_windows_train_scaled = scaler.transform(y_windows_train.reshape(-1, 1))\n",
    "y_windows_test_scaled = scaler.transform(y_windows_test.reshape(-1, 1))\n",
    "y_windows_test_sick_scaled = scaler.transform(y_windows_test_sick.reshape(-1, 1))\n",
    "y_windows_train = y_windows_train_scaled\n",
    "y_windows_test = y_windows_test_scaled\n",
    "y_windows_test_sick = y_windows_test_sick_scaled"
   ]
  },
  {
   "cell_type": "code",
   "execution_count": 49,
   "id": "c723fbb5",
   "metadata": {},
   "outputs": [],
   "source": [
    "X_test = np.stack([X_windows_test_FHR, X_windows_test_FMP], axis=-1)\n",
    "X_test_sick = np.stack([X_windows_test_sick_FHR, X_windows_test_sick_FMP], axis=-1) \n",
    "X_windows_test = tf.convert_to_tensor(X_test, dtype=tf.float32)\n",
    "X_windows_test_sick = tf.convert_to_tensor(X_test_sick, dtype=tf.float32)"
   ]
  },
  {
   "cell_type": "code",
   "execution_count": 50,
   "id": "a307afda",
   "metadata": {},
   "outputs": [],
   "source": [
    "y_windows_test = tf.convert_to_tensor(y_windows_test, dtype=tf.float32)\n",
    "y_windows_test_sick = tf.convert_to_tensor(y_windows_test_sick, dtype=tf.float32)"
   ]
  },
  {
   "cell_type": "code",
   "execution_count": 51,
   "id": "02c30a11",
   "metadata": {},
   "outputs": [
    {
     "name": "stdout",
     "output_type": "stream",
     "text": [
      "110/110 [==============================] - 5s 46ms/step\n",
      "120/120 [==============================] - 6s 46ms/step\n"
     ]
    }
   ],
   "source": [
    "#y_true_healthy = y_windows_test.flatten()\n",
    "y_pred_healthy_fmp = model_fmp.predict(X_windows_test).flatten()\n",
    "metrics_boot_healthy_fmp = bootstrap_metrics(y_true_healthy, y_pred_healthy_fmp)\n",
    "ci_healthy_fmp = compute_confidence_intervals(metrics_boot_healthy_fmp)\n",
    "\n",
    "#y_true_sick = y_windows_test_sick.flatten()\n",
    "y_pred_sick_fmp = model_fmp.predict(X_windows_test_sick).flatten()\n",
    "metrics_boot_sick_fmp = bootstrap_metrics(y_true_sick, y_pred_sick_fmp)\n",
    "ci_sick_fmp = compute_confidence_intervals(metrics_boot_sick_fmp)"
   ]
  },
  {
   "cell_type": "code",
   "execution_count": 52,
   "id": "71aa534f",
   "metadata": {},
   "outputs": [
    {
     "name": "stdout",
     "output_type": "stream",
     "text": [
      "Healthy subjects:\n",
      "MAE_norm: 0.255 (IC 95%: 0.248 - 0.262)\n",
      "MSE_norm: 0.105 (IC 95%: 0.100 - 0.110)\n",
      "MAE_denorm: 8.035 (IC 95%: 7.817 - 8.246)\n",
      "MSE_denorm: 104.572 (IC 95%: 99.653 - 109.586)\n",
      "MAE_denorm_div7: 1.148 (IC 95%: 1.117 - 1.178)\n",
      "MSE_denorm_div7: 14.939 (IC 95%: 14.236 - 15.655)\n",
      "R2: 0.264 (IC 95%: 0.243 - 0.285)\n",
      "Pearson: 0.526 (IC 95%: 0.502 - 0.549)\n",
      "Spearman: 0.518 (IC 95%: 0.493 - 0.542)\n",
      "P_value: 0.000 (IC 95%: 0.000 - 0.000)\n",
      "Slope: 0.231 (IC 95%: 0.219 - 0.243)\n",
      "\n",
      "Sick subjects:\n",
      "MAE_norm: 0.673 (IC 95%: 0.656 - 0.689)\n",
      "MSE_norm: 0.736 (IC 95%: 0.698 - 0.780)\n",
      "MAE_denorm: 21.188 (IC 95%: 20.677 - 21.690)\n",
      "MSE_denorm: 730.249 (IC 95%: 692.924 - 774.182)\n",
      "MAE_denorm_div7: 3.027 (IC 95%: 2.954 - 3.099)\n",
      "MSE_denorm_div7: 104.321 (IC 95%: 98.989 - 110.597)\n",
      "R2: -0.282 (IC 95%: -0.348 - -0.236)\n",
      "Pearson: -0.033 (IC 95%: -0.059 - -0.005)\n",
      "Spearman: 0.028 (IC 95%: -0.005 - 0.057)\n",
      "P_value: 0.121 (IC 95%: 0.000 - 0.757)\n",
      "Slope: -0.015 (IC 95%: -0.028 - -0.002)\n"
     ]
    }
   ],
   "source": [
    "print(\"Healthy subjects:\")\n",
    "for metrica, (mean, lower, upper) in ci_healthy_fmp.items():\n",
    "    print(f\"{metrica}: {mean:.3f} (IC 95%: {lower:.3f} - {upper:.3f})\")\n",
    "\n",
    "print(\"\\nSick subjects:\")\n",
    "for metrica, (mean, lower, upper) in ci_sick_fmp.items():\n",
    "    print(f\"{metrica}: {mean:.3f} (IC 95%: {lower:.3f} - {upper:.3f})\")"
   ]
  },
  {
   "cell_type": "code",
   "execution_count": 53,
   "id": "8f0f8d76",
   "metadata": {},
   "outputs": [],
   "source": [
    "#filtered_y_true = np.array(y_true_healthy)[mask]\n",
    "filtered_y_pred_fmp= np.array(y_pred_healthy_fmp)[mask]\n",
    "#filtered_y_true_sick = np.array(y_true_sick)[mask_sick]\n",
    "filtered_y_pred_sick_fmp = np.array(y_pred_sick_fmp)[mask_sick]"
   ]
  },
  {
   "cell_type": "code",
   "execution_count": 54,
   "id": "4f431c9e",
   "metadata": {},
   "outputs": [
    {
     "name": "stdout",
     "output_type": "stream",
     "text": [
      "Healthy subjects (filtered):\n",
      "MAE_norm: 0.222 (IC 95%: 0.216 - 0.228)\n",
      "MSE_norm: 0.078 (IC 95%: 0.074 - 0.081)\n",
      "MAE_denorm: 6.985 (IC 95%: 6.796 - 7.170)\n",
      "MSE_denorm: 77.007 (IC 95%: 73.189 - 80.822)\n",
      "MAE_denorm_div7: 0.998 (IC 95%: 0.971 - 1.024)\n",
      "MSE_denorm_div7: 11.001 (IC 95%: 10.456 - 11.546)\n",
      "R2: 0.212 (IC 95%: 0.183 - 0.242)\n",
      "Pearson: 0.470 (IC 95%: 0.441 - 0.498)\n",
      "Spearman: 0.468 (IC 95%: 0.439 - 0.496)\n",
      "P_value: 0.000 (IC 95%: 0.000 - 0.000)\n",
      "Slope: 0.238 (IC 95%: 0.221 - 0.254)\n",
      "\n",
      "Sick subjects (filtered):\n",
      "MAE_norm: 0.399 (IC 95%: 0.387 - 0.412)\n",
      "MSE_norm: 0.263 (IC 95%: 0.245 - 0.282)\n",
      "MAE_denorm: 12.570 (IC 95%: 12.177 - 12.978)\n",
      "MSE_denorm: 260.816 (IC 95%: 242.793 - 280.213)\n",
      "MAE_denorm_div7: 1.796 (IC 95%: 1.740 - 1.854)\n",
      "MSE_denorm_div7: 37.259 (IC 95%: 34.685 - 40.030)\n",
      "R2: -1.047 (IC 95%: -1.202 - -0.896)\n",
      "Pearson: 0.006 (IC 95%: -0.033 - 0.046)\n",
      "Spearman: 0.044 (IC 95%: 0.003 - 0.083)\n",
      "P_value: 0.465 (IC 95%: 0.020 - 0.959)\n",
      "Slope: 0.006 (IC 95%: -0.031 - 0.045)\n"
     ]
    }
   ],
   "source": [
    "metrics_boot_healthy_filtered_fmp = bootstrap_metrics(filtered_y_true, filtered_y_pred_fmp)\n",
    "ci_healthy_filtered_fmp = compute_confidence_intervals(metrics_boot_healthy_filtered_fmp)\n",
    "metrics_boot_sick_filtered_fmp = bootstrap_metrics(filtered_y_true_sick, filtered_y_pred_sick_fmp)\n",
    "ci_sick_filtered_fmp = compute_confidence_intervals(metrics_boot_sick_filtered_fmp)\n",
    "print(\"Healthy subjects (filtered):\")\n",
    "for metrica, (mean, lower, upper) in ci_healthy_filtered_fmp.items():\n",
    "    print(f\"{metrica}: {mean:.3f} (IC 95%: {lower:.3f} - {upper:.3f})\")\n",
    "print(\"\\nSick subjects (filtered):\")\n",
    "for metrica, (mean, lower, upper) in ci_sick_filtered_fmp.items():\n",
    "    print(f\"{metrica}: {mean:.3f} (IC 95%: {lower:.3f} - {upper:.3f})\")"
   ]
  },
  {
   "cell_type": "code",
   "execution_count": 55,
   "id": "8d3a1606",
   "metadata": {},
   "outputs": [
    {
     "name": "stdout",
     "output_type": "stream",
     "text": [
      "                         Media        IC 2.5%       IC 97.5%\n",
      "MAE_norm          2.550658e-01   2.481478e-01   2.617730e-01\n",
      "MSE_norm          1.053888e-01   1.004316e-01   1.104422e-01\n",
      "MAE_denorm        8.034573e+00   7.816657e+00   8.245850e+00\n",
      "MSE_denorm        1.045720e+02   9.965321e+01   1.095862e+02\n",
      "MAE_denorm_div7   1.147796e+00   1.116665e+00   1.177979e+00\n",
      "MSE_denorm_div7   1.493886e+01   1.423617e+01   1.565518e+01\n",
      "R2                2.636915e-01   2.430044e-01   2.847476e-01\n",
      "Pearson           5.256299e-01   5.021476e-01   5.488820e-01\n",
      "Spearman          5.177074e-01   4.930397e-01   5.416200e-01\n",
      "P_value          4.122602e-211  1.018651e-274  4.626781e-223\n",
      "Slope             2.311272e-01   2.187757e-01   2.431889e-01\n",
      "                      Media     IC 2.5%    IC 97.5%\n",
      "MAE_norm           0.672650    0.656419    0.688557\n",
      "MSE_norm           0.735953    0.698336    0.780229\n",
      "MAE_denorm        21.188485   20.677204   21.689553\n",
      "MSE_denorm       730.249168  692.924068  774.181891\n",
      "MAE_denorm_div7    3.026926    2.953886    3.098508\n",
      "MSE_denorm_div7  104.321310   98.989153  110.597413\n",
      "R2                -0.282425   -0.348244   -0.235524\n",
      "Pearson           -0.032836   -0.059457   -0.004823\n",
      "Spearman           0.027800   -0.005421    0.057001\n",
      "P_value            0.121425    0.000230    0.757336\n",
      "Slope             -0.014856   -0.028322   -0.002065\n",
      "                         Media        IC 2.5%       IC 97.5%\n",
      "MAE_norm          2.217491e-01   2.157605e-01   2.276301e-01\n",
      "MSE_norm          7.760822e-02   7.376058e-02   8.145314e-02\n",
      "MAE_denorm        6.985098e+00   6.796455e+00   7.170348e+00\n",
      "MSE_denorm        7.700676e+01   7.318894e+01   8.082187e+01\n",
      "MAE_denorm_div7   9.978712e-01   9.709221e-01   1.024335e+00\n",
      "MSE_denorm_div7   1.100097e+01   1.045556e+01   1.154598e+01\n",
      "R2                2.122907e-01   1.826376e-01   2.419125e-01\n",
      "Pearson           4.698000e-01   4.407482e-01   4.980400e-01\n",
      "Spearman          4.676629e-01   4.390722e-01   4.959292e-01\n",
      "P_value          5.180193e-137  9.543084e-200  7.709479e-152\n",
      "Slope             2.377985e-01   2.210294e-01   2.537553e-01\n",
      "                      Media     IC 2.5%    IC 97.5%\n",
      "MAE_norm           0.399053    0.386556    0.411999\n",
      "MSE_norm           0.262853    0.244689    0.282401\n",
      "MAE_denorm        12.570173   12.176508   12.977962\n",
      "MSE_denorm       260.815761  242.793132  280.212714\n",
      "MAE_denorm_div7    1.795739    1.739501    1.853995\n",
      "MSE_denorm_div7   37.259394   34.684733   40.030388\n",
      "R2                -1.047146   -1.202402   -0.896020\n",
      "Pearson            0.006489   -0.032553    0.046477\n",
      "Spearman           0.043951    0.002754    0.082795\n",
      "P_value            0.464978    0.019748    0.958897\n",
      "Slope              0.006192   -0.030796    0.044506\n"
     ]
    }
   ],
   "source": [
    "df_healthy_fmp = pd.DataFrame(ci_healthy_fmp, index=['Media', 'IC 2.5%', 'IC 97.5%']).T\n",
    "print(df_healthy_fmp)\n",
    "df_sick_fmp = pd.DataFrame(ci_sick_fmp, index=['Media', 'IC 2.5%', 'IC 97.5%']).T\n",
    "print(df_sick_fmp)\n",
    "df_healthy_filtered_fmp = pd.DataFrame(ci_healthy_filtered_fmp, index=['Media', 'IC 2.5%', 'IC 97.5%']).T\n",
    "print(df_healthy_filtered_fmp)\n",
    "df_sick_filtered_fmp = pd.DataFrame(ci_sick_filtered_fmp, index=['Media', 'IC 2.5%', 'IC 97.5%']).T\n",
    "print(df_sick_filtered_fmp)"
   ]
  }
 ],
 "metadata": {
  "kernelspec": {
   "display_name": "Chiara",
   "language": "python",
   "name": "python3"
  },
  "language_info": {
   "codemirror_mode": {
    "name": "ipython",
    "version": 3
   },
   "file_extension": ".py",
   "mimetype": "text/x-python",
   "name": "python",
   "nbconvert_exporter": "python",
   "pygments_lexer": "ipython3",
   "version": "3.8.12"
  }
 },
 "nbformat": 4,
 "nbformat_minor": 5
}
