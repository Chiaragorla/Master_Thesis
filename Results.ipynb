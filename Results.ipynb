{
 "cells": [
  {
   "cell_type": "markdown",
   "id": "145b3e53",
   "metadata": {},
   "source": [
    "ResNet with Attention"
   ]
  },
  {
   "cell_type": "code",
   "execution_count": 1,
   "id": "9296bd2b",
   "metadata": {},
   "outputs": [],
   "source": [
    "#load keras model\n",
    "import keras\n",
    "from keras.models import load_model\n",
    "import numpy as np\n",
    "#load model\n",
    "model = load_model(r'C:\\Users\\Utente\\Desktop\\Chiara\\Codici\\Cose nuove\\Nuovi\\Final_mean\\Codes\\Trained models\\ResNet_SE.keras')\n"
   ]
  },
  {
   "cell_type": "code",
   "execution_count": 2,
   "id": "e0f6e198",
   "metadata": {},
   "outputs": [],
   "source": [
    "import pandas as pd\n",
    "test_sick = pd.read_pickle(r'C:\\Users\\Utente\\Desktop\\Chiara\\SUBSET\\df_malati_mean_noFMP.pkl')\n",
    "test_healthy = pd.read_pickle(r'C:\\Users\\Utente\\Desktop\\Chiara\\SUBSET\\df_test_mean.pkl')\n",
    "train = pd.read_pickle(r\"C:\\Users\\Utente\\Desktop\\Chiara\\SUBSET\\df_train_mean.pkl\")"
   ]
  },
  {
   "cell_type": "code",
   "execution_count": 3,
   "id": "c08e5964",
   "metadata": {},
   "outputs": [],
   "source": [
    "test_healthy['signals'] = test_healthy['signals'].apply(lambda x: x[0] if isinstance(x, list) and isinstance(x[0], np.ndarray) else x)\n",
    "test_sick['signals'] = test_sick['signals'].apply(lambda x: x[0] if isinstance(x, list) and isinstance(x[0], np.ndarray) else x)\n",
    "train['signals'] = train['signals'].apply(lambda x: x[0] if isinstance(x, list) and isinstance(x[0], np.ndarray) else x)"
   ]
  },
  {
   "cell_type": "code",
   "execution_count": 4,
   "id": "b62a23eb",
   "metadata": {},
   "outputs": [],
   "source": [
    "def find_n_windows(l_signal, w_window=3600, Maxoverlap=0.5):\n",
    "    n_windows = np.ceil(l_signal / w_window)\n",
    "    if n_windows ==1:\n",
    "        overlap = 0\n",
    "    else:\n",
    "        overlap = np.ceil(((n_windows * w_window) - l_signal) / (n_windows -1))\n",
    "    if overlap * (n_windows - 1) > (w_window * Maxoverlap):\n",
    "        n_windows = n_windows -1\n",
    "        overlap = 0\n",
    "    return n_windows, overlap\n",
    "\n",
    "\n",
    "import numpy as np\n",
    "\n",
    "def WindowSignals(X, y, Maxoverlap=0.5):\n",
    "    \"\"\"\n",
    "    Divide i segnali di X in finestre e assegna a ciascuna finestra l'età gestazionale `y`.\n",
    "    \n",
    "    Args:\n",
    "        X (ndarray): Array di segnali, ciascuno rappresentato come array numpy (dtype=object).\n",
    "        y (ndarray): Array di etichette (età gestazionale) corrispondenti ai segnali in X (dtype=object).\n",
    "        Maxoverlap (float): Percentuale massima di sovrapposizione tra le finestre (default 0.5).\n",
    "\n",
    "    Returns:\n",
    "        X_post_win (ndarray): Array di finestre dei segnali.\n",
    "        y_post_win (ndarray): Array di etichette per ciascuna finestra.\n",
    "    \"\"\"\n",
    "    if isinstance(X, pd.DataFrame) or isinstance(X, pd.Series):\n",
    "        X = X.to_numpy()  # Conversione a numpy array se X è un DataFrame o Series\n",
    "    if isinstance(y, pd.DataFrame) or isinstance(y, pd.Series):\n",
    "        y = y.to_numpy()  # Conversione a numpy array se y è un DataFrame o Series\n",
    "    \n",
    "\n",
    "    X_post_win = []\n",
    "    y_post_win = []\n",
    "\n",
    "    for i in range(len(X)):  # Itera sugli array in X (ora sono ndarray di tipo object)\n",
    "        signal = X[i]\n",
    "        label = y[i]  # L'etichetta associata al segnale\n",
    "\n",
    "        l_signal = len(signal)  # Lunghezza del segnale\n",
    "        w_window = 3600  # Lunghezza della finestra\n",
    "\n",
    "        # Calcola il numero di finestre e la sovrapposizione\n",
    "        if Maxoverlap > 0:\n",
    "            n_windows, overlap = find_n_windows(l_signal, w_window, Maxoverlap)\n",
    "        else:\n",
    "            n_windows = np.floor(l_signal / w_window)\n",
    "            overlap = 0\n",
    "\n",
    "        # Genera le finestre per il segnale corrente\n",
    "        for n in range(int(n_windows)):\n",
    "            start_index = int(n * (w_window - overlap))\n",
    "            end_index = int(start_index + w_window)\n",
    "            if end_index > l_signal:  # Verifica che la finestra non esca dai limiti\n",
    "                break\n",
    "            window = signal[start_index:end_index]\n",
    "            X_post_win.append(window)\n",
    "            y_post_win.append(label)  # Aggiungi l'etichetta corrispondente\n",
    "\n",
    "    return np.array(X_post_win, dtype=object), np.array(y_post_win, dtype=object)\n"
   ]
  },
  {
   "cell_type": "code",
   "execution_count": 5,
   "id": "487d1f88",
   "metadata": {},
   "outputs": [],
   "source": [
    "X_windows_train, y_windows_train= WindowSignals(train['signals'], train['y'])\n",
    "X_windows_test, y_windows_test = WindowSignals(test_healthy['signals'], test_healthy['y'])\n",
    "X_windows_test_sick, y_windows_test_sick = WindowSignals(test_sick['signals'], test_sick['y'])"
   ]
  },
  {
   "cell_type": "code",
   "execution_count": 6,
   "id": "70fe647b",
   "metadata": {},
   "outputs": [],
   "source": [
    "from sklearn.preprocessing import MinMaxScaler\n",
    "\n",
    "scaler = MinMaxScaler(feature_range=(-1, 1))\n",
    "scaler.fit(y_windows_train.reshape(-1, 1))\n",
    "y_windows_test_scaled = scaler.transform(y_windows_test.reshape(-1, 1))\n",
    "y_windows_test_sick_scaled = scaler.transform(y_windows_test_sick.reshape(-1, 1))"
   ]
  },
  {
   "cell_type": "code",
   "execution_count": 7,
   "id": "1d8a9455",
   "metadata": {},
   "outputs": [],
   "source": [
    "y_windows_test = y_windows_test_scaled\n",
    "y_windows_test_sick = y_windows_test_sick_scaled"
   ]
  },
  {
   "cell_type": "code",
   "execution_count": 8,
   "id": "a0adbea1",
   "metadata": {},
   "outputs": [
    {
     "name": "stdout",
     "output_type": "stream",
     "text": [
      "object\n",
      "object\n"
     ]
    }
   ],
   "source": [
    "print(X_windows_test.dtype)\n",
    "print(X_windows_test_sick.dtype)\n"
   ]
  },
  {
   "cell_type": "code",
   "execution_count": 9,
   "id": "5cbe918a",
   "metadata": {},
   "outputs": [],
   "source": [
    "import tensorflow as tf\n",
    "\n",
    "X_windows_test = tf.convert_to_tensor(X_windows_test, dtype=tf.float32)\n",
    "X_windows_test_sick = tf.convert_to_tensor(X_windows_test_sick, dtype=tf.float32)\n",
    "X_windows_test = tf.expand_dims(X_windows_test, axis=-1)\n",
    "X_windows_test_sick = tf.expand_dims(X_windows_test_sick, axis=-1)"
   ]
  },
  {
   "cell_type": "code",
   "execution_count": 10,
   "id": "f5700fed",
   "metadata": {},
   "outputs": [],
   "source": [
    "from sklearn.metrics import mean_absolute_error, mean_squared_error, r2_score\n",
    "from scipy.stats import pearsonr, spearmanr, linregress, f\n",
    "import numpy as np\n",
    "\n",
    "def calculate_p_value_from_r2(R_squared, n, k):\n",
    "    # Calcola F-statistic\n",
    "    F_stat = (R_squared / k) / ((1 - R_squared) / (n - k - 1))\n",
    "    # Calcola p-value\n",
    "    p_value = 1 - f.cdf(F_stat, dfn=k, dfd=n - k - 1)\n",
    "    return p_value\n",
    "\n",
    "def compute_metrics(y_true, y_pred):\n",
    "    y_true_denorm = scaler.inverse_transform(y_true.reshape(-1, 1)).flatten()\n",
    "    y_pred_denorm = scaler.inverse_transform(y_pred.reshape(-1, 1)).flatten()\n",
    "    \n",
    "    mae = mean_absolute_error(y_true, y_pred)\n",
    "    mse = mean_squared_error(y_true, y_pred)\n",
    "    mae_denorm = mean_absolute_error(y_true_denorm, y_pred_denorm)\n",
    "    mse_denorm = mean_squared_error(y_true_denorm, y_pred_denorm)\n",
    "    mae_denorm_div7 = mae_denorm / 7\n",
    "    mse_denorm_div7 = mse_denorm / 7\n",
    "    \n",
    "    r2 = r2_score(y_true, y_pred)\n",
    "    \n",
    "    # Pearson & Spearman\n",
    "    pearson_corr, p_value_pearson = pearsonr(y_true, y_pred)\n",
    "    spearman_corr, p_value_spearman = spearmanr(y_true, y_pred)\n",
    "    \n",
    "    # Linear regression\n",
    "    slope, intercept, r_value, p_linreg, std_err = linregress(y_true, y_pred)\n",
    "    \n",
    "    # P-value da R^2\n",
    "    n = len(y_true)\n",
    "    k = 1  # numero di variabili indipendenti\n",
    "    p_value_r2 = calculate_p_value_from_r2(r2, n, k)\n",
    "    \n",
    "    return {\n",
    "        'MAE_norm': mae,\n",
    "        'MSE_norm': mse,\n",
    "        'MAE_denorm': mae_denorm,\n",
    "        'MSE_denorm': mse_denorm,\n",
    "        'MAE_denorm_div7': mae_denorm_div7,\n",
    "        'MSE_denorm_div7': mse_denorm_div7,\n",
    "        'R2': r2,\n",
    "        'P_value_R2': p_value_r2,\n",
    "        'Pearson': pearson_corr,\n",
    "        'Spearman': spearman_corr,\n",
    "        'P_value_pearson': p_value_pearson,\n",
    "        'P_value_spearman': p_value_spearman,\n",
    "        'Slope': slope\n",
    "    }\n",
    "\n"
   ]
  },
  {
   "cell_type": "code",
   "execution_count": 11,
   "id": "f0b7937f",
   "metadata": {},
   "outputs": [],
   "source": [
    "def bootstrap_metrics(y_true, y_pred, n_bootstrap=1000, random_state=None):\n",
    "    np.random.seed(random_state)\n",
    "    n = len(y_true)\n",
    "    metrics_list = []\n",
    "\n",
    "    for _ in range(n_bootstrap):\n",
    "        idx = np.random.choice(range(n), size=n, replace=True)\n",
    "        metrics = compute_metrics(y_true[idx], y_pred[idx])\n",
    "        metrics_list.append(metrics)\n",
    "    \n",
    "    return metrics_list\n"
   ]
  },
  {
   "cell_type": "code",
   "execution_count": 12,
   "id": "f5319484",
   "metadata": {},
   "outputs": [],
   "source": [
    "def compute_confidence_intervals(metrics_list, alpha=0.05):\n",
    "    keys = metrics_list[0].keys()\n",
    "    ci_dict = {}\n",
    "    for key in keys:\n",
    "        values = [m[key] for m in metrics_list]\n",
    "        lower = np.percentile(values, 100 * alpha / 2)\n",
    "        upper = np.percentile(values, 100 * (1 - alpha / 2))\n",
    "        mean = np.mean(values)\n",
    "        ci_dict[key] = (mean, lower, upper)\n",
    "    \n",
    "    return ci_dict\n"
   ]
  },
  {
   "cell_type": "code",
   "execution_count": 13,
   "id": "63d9ce35",
   "metadata": {},
   "outputs": [
    {
     "name": "stdout",
     "output_type": "stream",
     "text": [
      "110/110 [==============================] - 7s 45ms/step\n",
      "120/120 [==============================] - 6s 47ms/step\n"
     ]
    }
   ],
   "source": [
    "y_true_healthy = y_windows_test.flatten()\n",
    "y_pred_healthy = model.predict(X_windows_test).flatten()\n",
    "metrics_boot_healthy = bootstrap_metrics(y_true_healthy, y_pred_healthy)\n",
    "ci_healthy = compute_confidence_intervals(metrics_boot_healthy)\n",
    "\n",
    "y_true_sick = y_windows_test_sick.flatten()\n",
    "y_pred_sick = model.predict(X_windows_test_sick).flatten()\n",
    "metrics_boot_sick = bootstrap_metrics(y_true_sick, y_pred_sick)\n",
    "ci_sick = compute_confidence_intervals(metrics_boot_sick)\n"
   ]
  },
  {
   "cell_type": "code",
   "execution_count": 14,
   "id": "0bb52cde",
   "metadata": {},
   "outputs": [
    {
     "name": "stdout",
     "output_type": "stream",
     "text": [
      "Healthy subjects:\n",
      "MAE_norm: 0.258 (IC 95%: 0.251 - 0.265)\n",
      "MSE_norm: 0.106 (IC 95%: 0.102 - 0.111)\n",
      "MAE_denorm: 8.137 (IC 95%: 7.919 - 8.352)\n",
      "MSE_denorm: 105.530 (IC 95%: 100.777 - 110.619)\n",
      "MAE_denorm_div7: 1.162 (IC 95%: 1.131 - 1.193)\n",
      "MSE_denorm_div7: 15.076 (IC 95%: 14.397 - 15.803)\n",
      "R2: 0.258 (IC 95%: 0.232 - 0.283)\n",
      "P_value_R2: 0.000 (IC 95%: 0.000 - 0.000)\n",
      "Pearson: 0.508 (IC 95%: 0.483 - 0.534)\n",
      "Spearman: 0.500 (IC 95%: 0.472 - 0.525)\n",
      "P_value_pearson: 0.000 (IC 95%: 0.000 - 0.000)\n",
      "P_value_spearman: 0.000 (IC 95%: 0.000 - 0.000)\n",
      "Slope: 0.253 (IC 95%: 0.240 - 0.267)\n",
      "\n",
      "Sick subjects:\n",
      "MAE_norm: 0.505 (IC 95%: 0.491 - 0.518)\n",
      "MSE_norm: 0.452 (IC 95%: 0.429 - 0.474)\n",
      "MAE_denorm: 15.901 (IC 95%: 15.464 - 16.324)\n",
      "MSE_denorm: 448.303 (IC 95%: 425.539 - 470.745)\n",
      "MAE_denorm_div7: 2.272 (IC 95%: 2.209 - 2.332)\n",
      "MSE_denorm_div7: 64.043 (IC 95%: 60.791 - 67.249)\n",
      "R2: 0.213 (IC 95%: 0.192 - 0.234)\n",
      "P_value_R2: 0.000 (IC 95%: 0.000 - 0.000)\n",
      "Pearson: 0.653 (IC 95%: 0.636 - 0.671)\n",
      "Spearman: 0.661 (IC 95%: 0.643 - 0.680)\n",
      "P_value_pearson: 0.000 (IC 95%: 0.000 - 0.000)\n",
      "P_value_spearman: 0.000 (IC 95%: 0.000 - 0.000)\n",
      "Slope: 0.213 (IC 95%: 0.205 - 0.221)\n"
     ]
    }
   ],
   "source": [
    "print(\"Healthy subjects:\")\n",
    "for metrica, (mean, lower, upper) in ci_healthy.items():\n",
    "    print(f\"{metrica}: {mean:.3f} (IC 95%: {lower:.3f} - {upper:.3f})\")\n",
    "\n",
    "print(\"\\nSick subjects:\")\n",
    "for metrica, (mean, lower, upper) in ci_sick.items():\n",
    "    print(f\"{metrica}: {mean:.3f} (IC 95%: {lower:.3f} - {upper:.3f})\")\n"
   ]
  },
  {
   "cell_type": "code",
   "execution_count": 15,
   "id": "4c9868f2",
   "metadata": {},
   "outputs": [
    {
     "name": "stdout",
     "output_type": "stream",
     "text": [
      "-0.7142857142857135\n",
      "0.5873015873015888\n"
     ]
    }
   ],
   "source": [
    "lower = np.percentile(y_true_healthy, 5)\n",
    "upper = np.percentile(y_true_healthy, 95)\n",
    "print(lower)\n",
    "print(upper)\n",
    "\n",
    "mask = (y_true_healthy >= lower) & (y_true_healthy <= upper)\n",
    "#print(len(y_true), len(y_true_sick), len(y_pred), len(y_pred_sick))\n",
    "mask_sick = (y_true_sick >= lower) & (y_true_sick <= upper)\n",
    "\n",
    "filtered_y_true = np.array(y_true_healthy)[mask]\n",
    "filtered_y_pred = np.array(y_pred_healthy)[mask]\n",
    "filtered_y_true_sick = np.array(y_true_sick)[mask_sick]\n",
    "filtered_y_pred_sick = np.array(y_pred_sick)[mask_sick]"
   ]
  },
  {
   "cell_type": "code",
   "execution_count": 16,
   "id": "8d141a25",
   "metadata": {},
   "outputs": [
    {
     "name": "stdout",
     "output_type": "stream",
     "text": [
      "Healthy subjects (filtered):\n",
      "MAE_norm: 0.227 (IC 95%: 0.221 - 0.233)\n",
      "MSE_norm: 0.080 (IC 95%: 0.076 - 0.084)\n",
      "MAE_denorm: 7.139 (IC 95%: 6.951 - 7.335)\n",
      "MSE_denorm: 79.141 (IC 95%: 75.285 - 83.126)\n",
      "MAE_denorm_div7: 1.020 (IC 95%: 0.993 - 1.048)\n",
      "MSE_denorm_div7: 11.306 (IC 95%: 10.755 - 11.875)\n",
      "R2: 0.190 (IC 95%: 0.157 - 0.222)\n",
      "P_value_R2: 0.000 (IC 95%: 0.000 - 0.000)\n",
      "Pearson: 0.454 (IC 95%: 0.425 - 0.482)\n",
      "Spearman: 0.449 (IC 95%: 0.419 - 0.479)\n",
      "P_value_pearson: 0.000 (IC 95%: 0.000 - 0.000)\n",
      "P_value_spearman: 0.000 (IC 95%: 0.000 - 0.000)\n",
      "Slope: 0.262 (IC 95%: 0.242 - 0.280)\n",
      "\n",
      "Sick subjects (filtered):\n",
      "MAE_norm: 0.256 (IC 95%: 0.249 - 0.263)\n",
      "MSE_norm: 0.100 (IC 95%: 0.095 - 0.105)\n",
      "MAE_denorm: 8.062 (IC 95%: 7.834 - 8.298)\n",
      "MSE_denorm: 98.975 (IC 95%: 93.995 - 104.257)\n",
      "MAE_denorm_div7: 1.152 (IC 95%: 1.119 - 1.185)\n",
      "MSE_denorm_div7: 14.139 (IC 95%: 13.428 - 14.894)\n",
      "R2: 0.225 (IC 95%: 0.192 - 0.257)\n",
      "P_value_R2: 0.000 (IC 95%: 0.000 - 0.000)\n",
      "Pearson: 0.482 (IC 95%: 0.452 - 0.511)\n",
      "Spearman: 0.485 (IC 95%: 0.454 - 0.516)\n",
      "P_value_pearson: 0.000 (IC 95%: 0.000 - 0.000)\n",
      "P_value_spearman: 0.000 (IC 95%: 0.000 - 0.000)\n",
      "Slope: 0.274 (IC 95%: 0.255 - 0.293)\n"
     ]
    }
   ],
   "source": [
    "metrics_boot_healthy_filtered = bootstrap_metrics(filtered_y_true, filtered_y_pred)\n",
    "ci_healthy_filtered = compute_confidence_intervals(metrics_boot_healthy_filtered)\n",
    "metrics_boot_sick_filtered = bootstrap_metrics(filtered_y_true_sick, filtered_y_pred_sick)\n",
    "ci_sick_filtered = compute_confidence_intervals(metrics_boot_sick_filtered)\n",
    "print(\"Healthy subjects (filtered):\")\n",
    "for metrica, (mean, lower, upper) in ci_healthy_filtered.items():\n",
    "    print(f\"{metrica}: {mean:.3f} (IC 95%: {lower:.3f} - {upper:.3f})\")\n",
    "print(\"\\nSick subjects (filtered):\")\n",
    "for metrica, (mean, lower, upper) in ci_sick_filtered.items():\n",
    "    print(f\"{metrica}: {mean:.3f} (IC 95%: {lower:.3f} - {upper:.3f})\")"
   ]
  },
  {
   "cell_type": "code",
   "execution_count": 17,
   "id": "d6772d57",
   "metadata": {},
   "outputs": [
    {
     "name": "stdout",
     "output_type": "stream",
     "text": [
      "                          Media        IC 2.5%       IC 97.5%\n",
      "MAE_norm           2.583247e-01   2.514077e-01   2.651508e-01\n",
      "MSE_norm           1.063538e-01   1.015640e-01   1.114829e-01\n",
      "MAE_denorm         8.137228e+00   7.919342e+00   8.352252e+00\n",
      "MSE_denorm         1.055296e+02   1.007768e+02   1.106189e+02\n",
      "MAE_denorm_div7    1.162461e+00   1.131335e+00   1.193179e+00\n",
      "MSE_denorm_div7    1.507566e+01   1.439669e+01   1.580270e+01\n",
      "R2                 2.575953e-01   2.322066e-01   2.832065e-01\n",
      "P_value_R2         1.110223e-16   1.110223e-16   1.110223e-16\n",
      "Pearson            5.081922e-01   4.828491e-01   5.342196e-01\n",
      "Spearman           4.995838e-01   4.724776e-01   5.254016e-01\n",
      "P_value_pearson   1.835159e-191  1.252420e-257  5.677701e-204\n",
      "P_value_spearman  2.290950e-185  9.406001e-248  3.287788e-194\n",
      "Slope              2.534580e-01   2.397450e-01   2.673294e-01\n",
      "                         Media       IC 2.5%      IC 97.5%\n",
      "MAE_norm          5.047979e-01  4.909336e-01  5.182290e-01\n",
      "MSE_norm          4.518045e-01  4.288623e-01  4.744217e-01\n",
      "MAE_denorm        1.590114e+01  1.546441e+01  1.632421e+01\n",
      "MSE_denorm        4.483030e+02  4.255386e+02  4.707450e+02\n",
      "MAE_denorm_div7   2.271591e+00  2.209201e+00  2.332031e+00\n",
      "MSE_denorm_div7   6.404329e+01  6.079123e+01  6.724928e+01\n",
      "R2                2.126194e-01  1.915299e-01  2.335648e-01\n",
      "P_value_R2        1.110223e-16  1.110223e-16  1.110223e-16\n",
      "Pearson           6.533054e-01  6.355997e-01  6.712490e-01\n",
      "Spearman          6.613148e-01  6.432065e-01  6.798336e-01\n",
      "P_value_pearson   0.000000e+00  0.000000e+00  0.000000e+00\n",
      "P_value_spearman  0.000000e+00  0.000000e+00  0.000000e+00\n",
      "Slope             2.127624e-01  2.053128e-01  2.206614e-01\n",
      "                          Media        IC 2.5%       IC 97.5%\n",
      "MAE_norm           2.266483e-01   2.206658e-01   2.328728e-01\n",
      "MSE_norm           7.975889e-02   7.587294e-02   8.377520e-02\n",
      "MAE_denorm         7.139423e+00   6.950971e+00   7.335493e+00\n",
      "MSE_denorm         7.914077e+01   7.528493e+01   8.312596e+01\n",
      "MAE_denorm_div7    1.019918e+00   9.929959e-01   1.047928e+00\n",
      "MSE_denorm_div7    1.130582e+01   1.075499e+01   1.187514e+01\n",
      "R2                 1.898960e-01   1.574416e-01   2.218866e-01\n",
      "P_value_R2         1.110223e-16   1.110223e-16   1.110223e-16\n",
      "Pearson            4.535246e-01   4.254139e-01   4.819108e-01\n",
      "Spearman           4.491677e-01   4.186474e-01   4.788283e-01\n",
      "P_value_pearson   8.592541e-131  2.530359e-185  1.690337e-140\n",
      "P_value_spearman  1.679808e-128  1.192175e-182  1.132219e-135\n",
      "Slope              2.616696e-01   2.420196e-01   2.798142e-01\n",
      "                          Media        IC 2.5%       IC 97.5%\n",
      "MAE_norm           2.559317e-01   2.486854e-01   2.634146e-01\n",
      "MSE_norm           9.974836e-02   9.472962e-02   1.050712e-01\n",
      "MAE_denorm         8.061848e+00   7.833591e+00   8.297560e+00\n",
      "MSE_denorm         9.897531e+01   9.399547e+01   1.042569e+02\n",
      "MAE_denorm_div7    1.151693e+00   1.119084e+00   1.185366e+00\n",
      "MSE_denorm_div7    1.413933e+01   1.342792e+01   1.489385e+01\n",
      "R2                 2.250114e-01   1.922127e-01   2.572427e-01\n",
      "P_value_R2         1.110223e-16   1.110223e-16   1.110223e-16\n",
      "Pearson            4.823997e-01   4.523234e-01   5.112321e-01\n",
      "Spearman           4.847470e-01   4.537651e-01   5.157538e-01\n",
      "P_value_pearson   4.540512e-111  8.366131e-163  1.655924e-123\n",
      "P_value_spearman  1.455096e-110  3.771156e-166  2.228253e-124\n",
      "Slope              2.739613e-01   2.547332e-01   2.934339e-01\n"
     ]
    }
   ],
   "source": [
    "df_healthy = pd.DataFrame(ci_healthy, index=['Media', 'IC 2.5%', 'IC 97.5%']).T\n",
    "print(df_healthy)\n",
    "df_sick = pd.DataFrame(ci_sick, index=['Media', 'IC 2.5%', 'IC 97.5%']).T\n",
    "print(df_sick)\n",
    "df_healthy_filtered = pd.DataFrame(ci_healthy_filtered, index=['Media', 'IC 2.5%', 'IC 97.5%']).T\n",
    "print(df_healthy_filtered)\n",
    "df_sick_filtered = pd.DataFrame(ci_sick_filtered, index=['Media', 'IC 2.5%', 'IC 97.5%']).T\n",
    "print(df_sick_filtered)"
   ]
  },
  {
   "cell_type": "markdown",
   "id": "bd367e8a",
   "metadata": {},
   "source": [
    "Inception Net"
   ]
  },
  {
   "cell_type": "code",
   "execution_count": 18,
   "id": "fe1f4a70",
   "metadata": {},
   "outputs": [],
   "source": [
    "model_inc = load_model(r'C:\\Users\\Utente\\Desktop\\Chiara\\Codici\\Cose nuove\\Nuovi\\Final_mean\\Codes\\Trained models\\Inception_ResNet_v1.keras')"
   ]
  },
  {
   "cell_type": "code",
   "execution_count": 19,
   "id": "58177c21",
   "metadata": {},
   "outputs": [
    {
     "name": "stdout",
     "output_type": "stream",
     "text": [
      "110/110 [==============================] - 10s 75ms/step\n",
      "120/120 [==============================] - 9s 79ms/step\n"
     ]
    }
   ],
   "source": [
    "#y_true_healthy = y_windows_test.flatten()\n",
    "y_pred_healthy_inc = model_inc.predict(X_windows_test).flatten()\n",
    "metrics_boot_healthy_inc = bootstrap_metrics(y_true_healthy, y_pred_healthy_inc)\n",
    "ci_healthy_inc = compute_confidence_intervals(metrics_boot_healthy_inc)\n",
    "\n",
    "#y_true_sick = y_windows_test_sick.flatten()\n",
    "y_pred_sick_inc = model_inc.predict(X_windows_test_sick).flatten()\n",
    "metrics_boot_sick_inc = bootstrap_metrics(y_true_sick, y_pred_sick_inc)\n",
    "ci_sick_inc = compute_confidence_intervals(metrics_boot_sick_inc)"
   ]
  },
  {
   "cell_type": "code",
   "execution_count": 20,
   "id": "a3936f6d",
   "metadata": {},
   "outputs": [
    {
     "name": "stdout",
     "output_type": "stream",
     "text": [
      "Healthy subjects:\n",
      "MAE_norm: 0.301 (IC 95%: 0.293 - 0.309)\n",
      "MSE_norm: 0.144 (IC 95%: 0.137 - 0.151)\n",
      "MAE_denorm: 9.479 (IC 95%: 9.238 - 9.733)\n",
      "MSE_denorm: 142.650 (IC 95%: 136.307 - 149.384)\n",
      "MAE_denorm_div7: 1.354 (IC 95%: 1.320 - 1.390)\n",
      "MSE_denorm_div7: 20.379 (IC 95%: 19.472 - 21.341)\n",
      "R2: -0.004 (IC 95%: -0.010 - -0.001)\n",
      "P_value_R2: 0.995 (IC 95%: 1.000 - 1.000)\n",
      "Pearson: 0.021 (IC 95%: -0.012 - 0.055)\n",
      "Spearman: 0.025 (IC 95%: -0.010 - 0.058)\n",
      "P_value_pearson: 0.301 (IC 95%: 0.001 - 0.933)\n",
      "P_value_spearman: 0.251 (IC 95%: 0.001 - 0.920)\n",
      "Slope: 0.000 (IC 95%: -0.000 - 0.001)\n",
      "\n",
      "Sick subjects:\n",
      "MAE_norm: 0.625 (IC 95%: 0.609 - 0.641)\n",
      "MSE_norm: 0.670 (IC 95%: 0.640 - 0.701)\n",
      "MAE_denorm: 19.687 (IC 95%: 19.183 - 20.201)\n",
      "MSE_denorm: 664.616 (IC 95%: 635.414 - 695.910)\n",
      "MAE_denorm_div7: 2.812 (IC 95%: 2.740 - 2.886)\n",
      "MSE_denorm_div7: 94.945 (IC 95%: 90.773 - 99.416)\n",
      "R2: -0.166 (IC 95%: -0.191 - -0.144)\n",
      "P_value_R2: 1.000 (IC 95%: 1.000 - 1.000)\n",
      "Pearson: 0.108 (IC 95%: 0.074 - 0.142)\n",
      "Spearman: 0.075 (IC 95%: 0.042 - 0.107)\n",
      "P_value_pearson: 0.000 (IC 95%: 0.000 - 0.000)\n",
      "P_value_spearman: 0.002 (IC 95%: 0.000 - 0.010)\n",
      "Slope: 0.001 (IC 95%: 0.000 - 0.001)\n"
     ]
    }
   ],
   "source": [
    "print(\"Healthy subjects:\")\n",
    "for metrica, (mean, lower, upper) in ci_healthy_inc.items():\n",
    "    print(f\"{metrica}: {mean:.3f} (IC 95%: {lower:.3f} - {upper:.3f})\")\n",
    "\n",
    "print(\"\\nSick subjects:\")\n",
    "for metrica, (mean, lower, upper) in ci_sick_inc.items():\n",
    "    print(f\"{metrica}: {mean:.3f} (IC 95%: {lower:.3f} - {upper:.3f})\")\n"
   ]
  },
  {
   "cell_type": "code",
   "execution_count": 21,
   "id": "5f4091a8",
   "metadata": {},
   "outputs": [],
   "source": [
    "#filtered_y_true = np.array(y_true_healthy)[mask]\n",
    "filtered_y_pred_inc = np.array(y_pred_healthy_inc)[mask]\n",
    "#filtered_y_true_sick = np.array(y_true_sick)[mask_sick]\n",
    "filtered_y_pred_sick_inc = np.array(y_pred_sick_inc)[mask_sick]"
   ]
  },
  {
   "cell_type": "code",
   "execution_count": 22,
   "id": "a5d0d2ef",
   "metadata": {},
   "outputs": [
    {
     "name": "stdout",
     "output_type": "stream",
     "text": [
      "Healthy subjects (filtered):\n",
      "MAE_norm: 0.256 (IC 95%: 0.250 - 0.262)\n",
      "MSE_norm: 0.099 (IC 95%: 0.095 - 0.103)\n",
      "MAE_denorm: 8.051 (IC 95%: 7.867 - 8.242)\n",
      "MSE_denorm: 98.054 (IC 95%: 94.071 - 101.983)\n",
      "MAE_denorm_div7: 1.150 (IC 95%: 1.124 - 1.177)\n",
      "MSE_denorm_div7: 14.008 (IC 95%: 13.439 - 14.569)\n",
      "R2: -0.004 (IC 95%: -0.009 - 0.000)\n",
      "P_value_R2: 0.984 (IC 95%: 0.798 - 1.000)\n",
      "Pearson: 0.049 (IC 95%: 0.015 - 0.084)\n",
      "Spearman: 0.048 (IC 95%: 0.010 - 0.084)\n",
      "P_value_pearson: 0.047 (IC 95%: 0.000 - 0.411)\n",
      "P_value_spearman: 0.056 (IC 95%: 0.000 - 0.564)\n",
      "Slope: 0.001 (IC 95%: 0.000 - 0.001)\n",
      "\n",
      "Sick subjects (filtered):\n",
      "MAE_norm: 0.302 (IC 95%: 0.295 - 0.310)\n",
      "MSE_norm: 0.129 (IC 95%: 0.124 - 0.134)\n",
      "MAE_denorm: 9.527 (IC 95%: 9.293 - 9.779)\n",
      "MSE_denorm: 127.767 (IC 95%: 122.625 - 133.298)\n",
      "MAE_denorm_div7: 1.361 (IC 95%: 1.328 - 1.397)\n",
      "MSE_denorm_div7: 18.252 (IC 95%: 17.518 - 19.043)\n",
      "R2: 0.000 (IC 95%: -0.002 - 0.002)\n",
      "P_value_R2: 0.424 (IC 95%: 0.039 - 1.000)\n",
      "Pearson: 0.053 (IC 95%: 0.011 - 0.096)\n",
      "Spearman: 0.049 (IC 95%: 0.007 - 0.092)\n",
      "P_value_pearson: 0.066 (IC 95%: 0.000 - 0.574)\n",
      "P_value_spearman: 0.088 (IC 95%: 0.000 - 0.691)\n",
      "Slope: 0.001 (IC 95%: 0.000 - 0.001)\n"
     ]
    }
   ],
   "source": [
    "metrics_boot_healthy_filtered_inc = bootstrap_metrics(filtered_y_true, filtered_y_pred_inc)\n",
    "ci_healthy_filtered_inc = compute_confidence_intervals(metrics_boot_healthy_filtered_inc)\n",
    "metrics_boot_sick_filtered_inc = bootstrap_metrics(filtered_y_true_sick, filtered_y_pred_sick_inc)\n",
    "ci_sick_filtered_inc = compute_confidence_intervals(metrics_boot_sick_filtered_inc)\n",
    "print(\"Healthy subjects (filtered):\")\n",
    "for metrica, (mean, lower, upper) in ci_healthy_filtered_inc.items():\n",
    "    print(f\"{metrica}: {mean:.3f} (IC 95%: {lower:.3f} - {upper:.3f})\")\n",
    "print(\"\\nSick subjects (filtered):\")\n",
    "for metrica, (mean, lower, upper) in ci_sick_filtered_inc.items():\n",
    "    print(f\"{metrica}: {mean:.3f} (IC 95%: {lower:.3f} - {upper:.3f})\")"
   ]
  },
  {
   "cell_type": "code",
   "execution_count": 23,
   "id": "9966a96e",
   "metadata": {},
   "outputs": [
    {
     "name": "stdout",
     "output_type": "stream",
     "text": [
      "                       Media     IC 2.5%    IC 97.5%\n",
      "MAE_norm            0.300913    0.293267    0.308978\n",
      "MSE_norm            0.143764    0.137372    0.150550\n",
      "MAE_denorm          9.478764    9.237918    9.732820\n",
      "MSE_denorm        142.649708  136.307368  149.383522\n",
      "MAE_denorm_div7     1.354109    1.319703    1.390403\n",
      "MSE_denorm_div7    20.378530   19.472481   21.340503\n",
      "R2                 -0.004391   -0.009601   -0.000616\n",
      "P_value_R2          0.994685    1.000000    1.000000\n",
      "Pearson             0.021430   -0.012102    0.055349\n",
      "Spearman            0.024804   -0.009880    0.057657\n",
      "P_value_pearson     0.300894    0.001052    0.932785\n",
      "P_value_spearman    0.250993    0.000642    0.919679\n",
      "Slope               0.000239   -0.000136    0.000621\n",
      "                       Media       IC 2.5%    IC 97.5%\n",
      "MAE_norm            0.624969  6.089987e-01    0.641307\n",
      "MSE_norm            0.669807  6.403770e-01    0.701345\n",
      "MAE_denorm         19.686519  1.918346e+01   20.201179\n",
      "MSE_denorm        664.616195  6.354140e+02  695.909892\n",
      "MAE_denorm_div7     2.812360  2.740494e+00    2.885883\n",
      "MSE_denorm_div7    94.945171  9.077343e+01   99.415699\n",
      "R2                 -0.166478 -1.905949e-01   -0.143520\n",
      "P_value_R2          1.000000  1.000000e+00    1.000000\n",
      "Pearson             0.108367  7.365532e-02    0.141888\n",
      "Spearman            0.075105  4.154200e-02    0.107059\n",
      "P_value_pearson     0.000005  1.060504e-18    0.000005\n",
      "P_value_spearman    0.001516  2.994949e-11    0.010086\n",
      "Slope               0.000608  4.129101e-04    0.000790\n",
      "                      Media    IC 2.5%    IC 97.5%\n",
      "MAE_norm           0.255574   0.249741    0.261652\n",
      "MSE_norm           0.098820   0.094805    0.102780\n",
      "MAE_denorm         8.050567   7.866841    8.242039\n",
      "MSE_denorm        98.054432  94.070711  101.983000\n",
      "MAE_denorm_div7    1.150081   1.123834    1.177434\n",
      "MSE_denorm_div7   14.007776  13.438673   14.569000\n",
      "R2                -0.003871  -0.009345    0.000021\n",
      "P_value_R2         0.984320   0.798152    1.000000\n",
      "Pearson            0.049432   0.014550    0.083741\n",
      "Spearman           0.048480   0.010215    0.083661\n",
      "P_value_pearson    0.047468   0.000002    0.411210\n",
      "P_value_spearman   0.055893   0.000002    0.564014\n",
      "Slope              0.000662   0.000195    0.001127\n",
      "                       Media     IC 2.5%    IC 97.5%\n",
      "MAE_norm            0.302441    0.295029    0.310459\n",
      "MSE_norm            0.128765    0.123583    0.134339\n",
      "MAE_denorm          9.526891    9.293417    9.779451\n",
      "MSE_denorm        127.767450  122.625315  133.297559\n",
      "MAE_denorm_div7     1.360984    1.327631    1.397064\n",
      "MSE_denorm_div7    18.252493   17.517902   19.042508\n",
      "R2                  0.000377   -0.002163    0.001738\n",
      "P_value_R2          0.423502    0.039365    1.000000\n",
      "Pearson             0.052808    0.011392    0.095767\n",
      "Spearman            0.048915    0.006854    0.091570\n",
      "P_value_pearson     0.066304    0.000002    0.573568\n",
      "P_value_spearman    0.087748    0.000006    0.691152\n",
      "Slope               0.000602    0.000132    0.001087\n"
     ]
    }
   ],
   "source": [
    "df_healthy_inc = pd.DataFrame(ci_healthy_inc, index=['Media', 'IC 2.5%', 'IC 97.5%']).T\n",
    "print(df_healthy_inc)\n",
    "df_sick_inc = pd.DataFrame(ci_sick_inc, index=['Media', 'IC 2.5%', 'IC 97.5%']).T\n",
    "print(df_sick_inc)\n",
    "df_healthy_filtered_inc = pd.DataFrame(ci_healthy_filtered_inc, index=['Media', 'IC 2.5%', 'IC 97.5%']).T\n",
    "print(df_healthy_filtered_inc)\n",
    "df_sick_filtered_inc = pd.DataFrame(ci_sick_filtered_inc, index=['Media', 'IC 2.5%', 'IC 97.5%']).T\n",
    "print(df_sick_filtered_inc)"
   ]
  },
  {
   "cell_type": "markdown",
   "id": "54db369c",
   "metadata": {},
   "source": [
    "ResNet with activity state"
   ]
  },
  {
   "cell_type": "code",
   "execution_count": 24,
   "id": "4d406250",
   "metadata": {},
   "outputs": [],
   "source": [
    "model_qa = load_model(r'C:\\Users\\Utente\\Desktop\\Chiara\\Codici\\Cose nuove\\Nuovi\\Final_mean\\Codes\\Trained models\\model_with_QA_mean.keras')"
   ]
  },
  {
   "cell_type": "code",
   "execution_count": 25,
   "id": "c1ccd738",
   "metadata": {},
   "outputs": [],
   "source": [
    "train_q_a = pd.read_pickle(r\"C:\\Users\\Utente\\Desktop\\Chiara\\DockerImage\\softmax_predictions_train_non_norm.pkl\")\n",
    "test_q_a = pd.read_pickle(r\"C:\\Users\\Utente\\Desktop\\Chiara\\DockerImage\\softmax_predictions_test_non_norm.pkl\")\n",
    "test_sick_q_a = pd.read_pickle(r\"C:\\Users\\Utente\\Desktop\\Chiara\\DockerImage\\softmax_predictions_test_sick_non_norm.pkl\")"
   ]
  },
  {
   "cell_type": "code",
   "execution_count": 26,
   "id": "62dc3714",
   "metadata": {},
   "outputs": [],
   "source": [
    "train = pd.concat([train, train_q_a], axis=1)\n",
    "test = pd.concat([test_healthy, test_q_a], axis=1)\n",
    "test_sick = pd.concat([test_sick, test_sick_q_a], axis=1)"
   ]
  },
  {
   "cell_type": "code",
   "execution_count": 27,
   "id": "c86f6e2e",
   "metadata": {},
   "outputs": [],
   "source": [
    "X_windows_train, y_windows_train= WindowSignals(train['signals'], train['y'])\n",
    "X_windows_test, y_windows_test = WindowSignals(test['signals'], test['y'])\n",
    "X_windows_test_sick, y_windows_test_sick = WindowSignals(test_sick['signals'], test_sick['y'])\n",
    "\n",
    "X_windows_train_qa, y_windows_train= WindowSignals(train['softmax_prediction_list'], train['y'])\n",
    "X_windows_test_qa, y_windows_test_qa = WindowSignals(test['softmax_prediction_list'], test['y'])\n",
    "X_windows_test_sick_qa, y_windows_test_sick_qa = WindowSignals(test_sick['softmax_prediction_list'], test_sick['y'])"
   ]
  },
  {
   "cell_type": "code",
   "execution_count": 28,
   "id": "73a43c9b",
   "metadata": {},
   "outputs": [],
   "source": [
    "y_windows_test_scaled = scaler.transform(y_windows_test.reshape(-1, 1))\n",
    "y_windows_test_sick_scaled = scaler.transform(y_windows_test_sick.reshape(-1, 1))\n",
    "y_windows_test = y_windows_test_scaled\n",
    "y_windows_test_sick = y_windows_test_sick_scaled"
   ]
  },
  {
   "cell_type": "code",
   "execution_count": 29,
   "id": "b5303dd1",
   "metadata": {},
   "outputs": [],
   "source": [
    "X_test = np.stack([X_windows_test, X_windows_test_qa], axis=-1)  # (batch_size, timesteps, 2)\n",
    "X_test_sick = np.stack([X_windows_test_sick, X_windows_test_sick_qa], axis=-1)  # (batch_size, timesteps, 2)"
   ]
  },
  {
   "cell_type": "code",
   "execution_count": 30,
   "id": "2979d118",
   "metadata": {},
   "outputs": [],
   "source": [
    "X_windows_test = tf.convert_to_tensor(X_test, dtype=tf.float32)\n",
    "X_windows_test_sick = tf.convert_to_tensor(X_test_sick, dtype=tf.float32)"
   ]
  },
  {
   "cell_type": "code",
   "execution_count": 31,
   "id": "0d3aed22",
   "metadata": {},
   "outputs": [],
   "source": [
    "y_windows_test = tf.convert_to_tensor(y_windows_test, dtype=tf.float32)\n",
    "y_windows_test_sick = tf.convert_to_tensor(y_windows_test_sick, dtype=tf.float32)"
   ]
  },
  {
   "cell_type": "code",
   "execution_count": 32,
   "id": "83e1107b",
   "metadata": {},
   "outputs": [
    {
     "name": "stdout",
     "output_type": "stream",
     "text": [
      "110/110 [==============================] - 5s 45ms/step\n",
      "120/120 [==============================] - 6s 47ms/step\n"
     ]
    }
   ],
   "source": [
    "#y_true_healthy = y_windows_test.flatten()\n",
    "y_pred_healthy_qa = model_qa.predict(X_windows_test).flatten()\n",
    "metrics_boot_healthy_qa = bootstrap_metrics(y_true_healthy, y_pred_healthy_qa)\n",
    "ci_healthy_qa = compute_confidence_intervals(metrics_boot_healthy_qa)\n",
    "\n",
    "#y_true_sick = y_windows_test_sick.flatten()\n",
    "y_pred_sick_qa = model_qa.predict(X_windows_test_sick).flatten()\n",
    "metrics_boot_sick_qa = bootstrap_metrics(y_true_sick, y_pred_sick_qa)\n",
    "ci_sick_qa = compute_confidence_intervals(metrics_boot_sick_qa)"
   ]
  },
  {
   "cell_type": "code",
   "execution_count": 33,
   "id": "d3e00534",
   "metadata": {},
   "outputs": [
    {
     "name": "stdout",
     "output_type": "stream",
     "text": [
      "Healthy subjects:\n",
      "MAE_norm: 0.257 (IC 95%: 0.251 - 0.264)\n",
      "MSE_norm: 0.106 (IC 95%: 0.101 - 0.110)\n",
      "MAE_denorm: 8.096 (IC 95%: 7.894 - 8.305)\n",
      "MSE_denorm: 104.683 (IC 95%: 99.723 - 109.592)\n",
      "MAE_denorm_div7: 1.157 (IC 95%: 1.128 - 1.186)\n",
      "MSE_denorm_div7: 14.955 (IC 95%: 14.246 - 15.656)\n",
      "R2: 0.263 (IC 95%: 0.241 - 0.286)\n",
      "P_value_R2: 0.000 (IC 95%: 0.000 - 0.000)\n",
      "Pearson: 0.519 (IC 95%: 0.495 - 0.544)\n",
      "Spearman: 0.516 (IC 95%: 0.491 - 0.542)\n",
      "P_value_pearson: 0.000 (IC 95%: 0.000 - 0.000)\n",
      "P_value_spearman: 0.000 (IC 95%: 0.000 - 0.000)\n",
      "Slope: 0.228 (IC 95%: 0.216 - 0.242)\n",
      "\n",
      "Sick subjects:\n",
      "MAE_norm: 0.516 (IC 95%: 0.503 - 0.531)\n",
      "MSE_norm: 0.466 (IC 95%: 0.445 - 0.489)\n",
      "MAE_denorm: 16.266 (IC 95%: 15.842 - 16.711)\n",
      "MSE_denorm: 462.869 (IC 95%: 441.090 - 485.368)\n",
      "MAE_denorm_div7: 2.324 (IC 95%: 2.263 - 2.387)\n",
      "MSE_denorm_div7: 66.124 (IC 95%: 63.013 - 69.338)\n",
      "R2: 0.188 (IC 95%: 0.168 - 0.207)\n",
      "P_value_R2: 0.000 (IC 95%: 0.000 - 0.000)\n",
      "Pearson: 0.663 (IC 95%: 0.646 - 0.681)\n",
      "Spearman: 0.666 (IC 95%: 0.648 - 0.684)\n",
      "P_value_pearson: 0.000 (IC 95%: 0.000 - 0.000)\n",
      "P_value_spearman: 0.000 (IC 95%: 0.000 - 0.000)\n",
      "Slope: 0.186 (IC 95%: 0.179 - 0.192)\n"
     ]
    }
   ],
   "source": [
    "print(\"Healthy subjects:\")\n",
    "for metrica, (mean, lower, upper) in ci_healthy_qa.items():\n",
    "    print(f\"{metrica}: {mean:.3f} (IC 95%: {lower:.3f} - {upper:.3f})\")\n",
    "\n",
    "print(\"\\nSick subjects:\")\n",
    "for metrica, (mean, lower, upper) in ci_sick_qa.items():\n",
    "    print(f\"{metrica}: {mean:.3f} (IC 95%: {lower:.3f} - {upper:.3f})\")\n"
   ]
  },
  {
   "cell_type": "code",
   "execution_count": 34,
   "id": "b7db3beb",
   "metadata": {},
   "outputs": [],
   "source": [
    "#filtered_y_true = np.array(y_true_healthy)[mask]\n",
    "filtered_y_pred_qa = np.array(y_pred_healthy_qa)[mask]\n",
    "#filtered_y_true_sick = np.array(y_true_sick)[mask_sick]\n",
    "filtered_y_pred_sick_qa = np.array(y_pred_sick_qa)[mask_sick]"
   ]
  },
  {
   "cell_type": "code",
   "execution_count": 35,
   "id": "17bafa98",
   "metadata": {},
   "outputs": [
    {
     "name": "stdout",
     "output_type": "stream",
     "text": [
      "Healthy subjects (filtered):\n",
      "MAE_norm: 0.223 (IC 95%: 0.218 - 0.230)\n",
      "MSE_norm: 0.077 (IC 95%: 0.074 - 0.081)\n",
      "MAE_denorm: 7.030 (IC 95%: 6.853 - 7.235)\n",
      "MSE_denorm: 76.466 (IC 95%: 73.086 - 80.497)\n",
      "MAE_denorm_div7: 1.004 (IC 95%: 0.979 - 1.034)\n",
      "MSE_denorm_div7: 10.924 (IC 95%: 10.441 - 11.500)\n",
      "R2: 0.217 (IC 95%: 0.188 - 0.242)\n",
      "P_value_R2: 0.000 (IC 95%: 0.000 - 0.000)\n",
      "Pearson: 0.467 (IC 95%: 0.439 - 0.493)\n",
      "Spearman: 0.467 (IC 95%: 0.441 - 0.494)\n",
      "P_value_pearson: 0.000 (IC 95%: 0.000 - 0.000)\n",
      "P_value_spearman: 0.000 (IC 95%: 0.000 - 0.000)\n",
      "Slope: 0.237 (IC 95%: 0.221 - 0.252)\n",
      "\n",
      "Sick subjects (filtered):\n",
      "MAE_norm: 0.258 (IC 95%: 0.251 - 0.265)\n",
      "MSE_norm: 0.100 (IC 95%: 0.095 - 0.105)\n",
      "MAE_denorm: 8.120 (IC 95%: 7.908 - 8.343)\n",
      "MSE_denorm: 99.063 (IC 95%: 94.511 - 103.952)\n",
      "MAE_denorm_div7: 1.160 (IC 95%: 1.130 - 1.192)\n",
      "MSE_denorm_div7: 14.152 (IC 95%: 13.502 - 14.850)\n",
      "R2: 0.224 (IC 95%: 0.195 - 0.252)\n",
      "P_value_R2: 0.000 (IC 95%: 0.000 - 0.000)\n",
      "Pearson: 0.475 (IC 95%: 0.444 - 0.503)\n",
      "Spearman: 0.475 (IC 95%: 0.444 - 0.505)\n",
      "P_value_pearson: 0.000 (IC 95%: 0.000 - 0.000)\n",
      "P_value_spearman: 0.000 (IC 95%: 0.000 - 0.000)\n",
      "Slope: 0.231 (IC 95%: 0.214 - 0.247)\n"
     ]
    }
   ],
   "source": [
    "metrics_boot_healthy_filtered_qa = bootstrap_metrics(filtered_y_true, filtered_y_pred_qa)\n",
    "ci_healthy_filtered_qa = compute_confidence_intervals(metrics_boot_healthy_filtered_qa)\n",
    "metrics_boot_sick_filtered_qa = bootstrap_metrics(filtered_y_true_sick, filtered_y_pred_sick_qa)\n",
    "ci_sick_filtered_qa = compute_confidence_intervals(metrics_boot_sick_filtered_qa)\n",
    "print(\"Healthy subjects (filtered):\")\n",
    "for metrica, (mean, lower, upper) in ci_healthy_filtered_qa.items():\n",
    "    print(f\"{metrica}: {mean:.3f} (IC 95%: {lower:.3f} - {upper:.3f})\")\n",
    "print(\"\\nSick subjects (filtered):\")\n",
    "for metrica, (mean, lower, upper) in ci_sick_filtered_qa.items():\n",
    "    print(f\"{metrica}: {mean:.3f} (IC 95%: {lower:.3f} - {upper:.3f})\")"
   ]
  },
  {
   "cell_type": "code",
   "execution_count": 36,
   "id": "a8f8e51c",
   "metadata": {},
   "outputs": [
    {
     "name": "stdout",
     "output_type": "stream",
     "text": [
      "                          Media        IC 2.5%       IC 97.5%\n",
      "MAE_norm           2.570103e-01   2.505991e-01   2.636483e-01\n",
      "MSE_norm           1.055011e-01   1.005020e-01   1.104476e-01\n",
      "MAE_denorm         8.095824e+00   7.893871e+00   8.304921e+00\n",
      "MSE_denorm         1.046835e+02   9.972313e+01   1.095916e+02\n",
      "MAE_denorm_div7    1.156546e+00   1.127696e+00   1.186417e+00\n",
      "MSE_denorm_div7    1.495478e+01   1.424616e+01   1.565595e+01\n",
      "R2                 2.629411e-01   2.414061e-01   2.857121e-01\n",
      "P_value_R2         1.110223e-16   1.110223e-16   1.110223e-16\n",
      "Pearson            5.191408e-01   4.946123e-01   5.442192e-01\n",
      "Spearman           5.158229e-01   4.907389e-01   5.421570e-01\n",
      "P_value_pearson   3.984084e-202  3.418544e-269  1.838546e-215\n",
      "P_value_spearman  1.148512e-201  8.930057e-267  1.270503e-211\n",
      "Slope              2.283090e-01   2.155323e-01   2.415965e-01\n",
      "                         Media       IC 2.5%      IC 97.5%\n",
      "MAE_norm          5.163890e-01  5.029252e-01  5.305045e-01\n",
      "MSE_norm          4.664843e-01  4.445355e-01  4.891587e-01\n",
      "MAE_denorm        1.626625e+01  1.584214e+01  1.671089e+01\n",
      "MSE_denorm        4.628690e+02  4.410903e+02  4.853677e+02\n",
      "MAE_denorm_div7   2.323751e+00  2.263163e+00  2.387270e+00\n",
      "MSE_denorm_div7   6.612414e+01  6.301290e+01  6.933824e+01\n",
      "R2                1.876845e-01  1.676307e-01  2.068549e-01\n",
      "P_value_R2        1.110223e-16  1.110223e-16  1.110223e-16\n",
      "Pearson           6.632880e-01  6.455819e-01  6.806771e-01\n",
      "Spearman          6.659474e-01  6.481496e-01  6.835817e-01\n",
      "P_value_pearson   0.000000e+00  0.000000e+00  0.000000e+00\n",
      "P_value_spearman  0.000000e+00  0.000000e+00  0.000000e+00\n",
      "Slope             1.857092e-01  1.790347e-01  1.921959e-01\n",
      "                          Media        IC 2.5%       IC 97.5%\n",
      "MAE_norm           2.231848e-01   2.175500e-01   2.296814e-01\n",
      "MSE_norm           7.706358e-02   7.365702e-02   8.112536e-02\n",
      "MAE_denorm         7.030320e+00   6.852823e+00   7.234965e+00\n",
      "MSE_denorm         7.646634e+01   7.308618e+01   8.049664e+01\n",
      "MAE_denorm_div7    1.004331e+00   9.789748e-01   1.033566e+00\n",
      "MSE_denorm_div7    1.092376e+01   1.044088e+01   1.149952e+01\n",
      "R2                 2.166024e-01   1.881792e-01   2.422949e-01\n",
      "P_value_R2         1.110223e-16   1.110223e-16   1.110223e-16\n",
      "Pearson            4.674460e-01   4.389952e-01   4.929330e-01\n",
      "Spearman           4.674789e-01   4.411411e-01   4.938770e-01\n",
      "P_value_pearson   8.926522e-144  4.269383e-195  1.635094e-150\n",
      "P_value_spearman  8.076714e-140  5.979440e-196  3.879696e-152\n",
      "Slope              2.368554e-01   2.209451e-01   2.523560e-01\n",
      "                          Media        IC 2.5%       IC 97.5%\n",
      "MAE_norm           2.577824e-01   2.510419e-01   2.648416e-01\n",
      "MSE_norm           9.983650e-02   9.524895e-02   1.047642e-01\n",
      "MAE_denorm         8.120146e+00   7.907819e+00   8.342510e+00\n",
      "MSE_denorm         9.906276e+01   9.451076e+01   1.039523e+02\n",
      "MAE_denorm_div7    1.160021e+00   1.129688e+00   1.191787e+00\n",
      "MSE_denorm_div7    1.415182e+01   1.350154e+01   1.485032e+01\n",
      "R2                 2.243495e-01   1.949311e-01   2.523931e-01\n",
      "P_value_R2         1.110223e-16   1.110223e-16   1.110223e-16\n",
      "Pearson            4.745024e-01   4.441004e-01   5.029063e-01\n",
      "Spearman           4.753868e-01   4.436928e-01   5.049938e-01\n",
      "P_value_pearson   1.619104e-111  9.007951e-157  1.308255e-118\n",
      "P_value_spearman  1.191078e-108  2.869758e-158  2.303949e-118\n",
      "Slope              2.308241e-01   2.143225e-01   2.467146e-01\n"
     ]
    }
   ],
   "source": [
    "df_healthy_qa = pd.DataFrame(ci_healthy_qa, index=['Media', 'IC 2.5%', 'IC 97.5%']).T\n",
    "print(df_healthy_qa)\n",
    "df_sick_qa = pd.DataFrame(ci_sick_qa, index=['Media', 'IC 2.5%', 'IC 97.5%']).T\n",
    "print(df_sick_qa)\n",
    "df_healthy_filtered_qa = pd.DataFrame(ci_healthy_filtered_qa, index=['Media', 'IC 2.5%', 'IC 97.5%']).T\n",
    "print(df_healthy_filtered_qa)\n",
    "df_sick_filtered_qa = pd.DataFrame(ci_sick_filtered_qa, index=['Media', 'IC 2.5%', 'IC 97.5%']).T\n",
    "print(df_sick_filtered_qa)"
   ]
  },
  {
   "cell_type": "markdown",
   "id": "b1b55abe",
   "metadata": {},
   "source": [
    "ResNet with FMP"
   ]
  },
  {
   "cell_type": "code",
   "execution_count": 37,
   "id": "99762a6c",
   "metadata": {},
   "outputs": [],
   "source": [
    "model_fmp = load_model(r'C:\\Users\\Utente\\Desktop\\Chiara\\Codici\\Cose nuove\\Nuovi\\Final_mean\\Codes\\Trained models\\model_FMP_mean.keras')"
   ]
  },
  {
   "cell_type": "code",
   "execution_count": 38,
   "id": "e2a7636e",
   "metadata": {},
   "outputs": [],
   "source": [
    "train = pd.read_pickle(r\"C:\\Users\\Utente\\Desktop\\Chiara\\SUBSET\\df_mean_train_FMP.pkl\")\n",
    "train['FHR'] = train['FHR'].apply(lambda x: x[0] if isinstance(x, list) else x)\n",
    "train['FMP'] = train['FMP'].apply(lambda x: x[0] if isinstance(x, list) else x)"
   ]
  },
  {
   "cell_type": "code",
   "execution_count": 39,
   "id": "ec89d233",
   "metadata": {},
   "outputs": [],
   "source": [
    "test = pd.read_pickle(r\"C:\\Users\\Utente\\Desktop\\Chiara\\SUBSET\\df_mean_test_FMP.pkl\")\n",
    "test['FHR'] = test['FHR'].apply(lambda x: x[0] if isinstance(x, list) else x)\n",
    "test['FMP'] = test['FMP'].apply(lambda x: x[0] if isinstance(x, list) else x)"
   ]
  },
  {
   "cell_type": "code",
   "execution_count": 40,
   "id": "ed8b4907",
   "metadata": {},
   "outputs": [],
   "source": [
    "test_sick = pd.read_pickle(r\"C:\\Users\\Utente\\Desktop\\Chiara\\SUBSET\\df_mean_malati_FMP.pkl\")\n",
    "test_sick['FHR'] = test_sick['FHR'].apply(lambda x: x[0] if isinstance(x, list) else x)\n",
    "test_sick['FMP'] = test_sick['FMP'].apply(lambda x: x[0] if isinstance(x, list) else x)"
   ]
  },
  {
   "cell_type": "code",
   "execution_count": 41,
   "id": "c2374457",
   "metadata": {},
   "outputs": [],
   "source": [
    "X_windows_train_FHR, y_windows_train= WindowSignals(train['FHR'], train['y'])\n",
    "X_windows_test_FHR, y_windows_test = WindowSignals(test['FHR'], test['y'])\n",
    "X_windows_test_sick_FHR, y_windows_test_sick = WindowSignals(test_sick['FHR'], test_sick['y'])"
   ]
  },
  {
   "cell_type": "code",
   "execution_count": 42,
   "id": "345b697a",
   "metadata": {},
   "outputs": [],
   "source": [
    "X_windows_train_FMP, y_windows_train= WindowSignals(train['FMP'], train['y'])\n",
    "X_windows_test_FMP, y_windows_test = WindowSignals(test['FMP'], test['y'])\n",
    "X_windows_test_sick_FMP, y_windows_test_sick = WindowSignals(test_sick['FHR'], test_sick['y'])"
   ]
  },
  {
   "cell_type": "code",
   "execution_count": 43,
   "id": "d5d03361",
   "metadata": {},
   "outputs": [],
   "source": [
    "scaler = MinMaxScaler(feature_range=(-1, 1))\n",
    "scaler.fit(y_windows_train.reshape(-1, 1))\n",
    "\n",
    "y_windows_train_scaled = scaler.transform(y_windows_train.reshape(-1, 1))\n",
    "y_windows_test_scaled = scaler.transform(y_windows_test.reshape(-1, 1))\n",
    "y_windows_test_sick_scaled = scaler.transform(y_windows_test_sick.reshape(-1, 1))\n",
    "y_windows_train = y_windows_train_scaled\n",
    "y_windows_test = y_windows_test_scaled\n",
    "y_windows_test_sick = y_windows_test_sick_scaled"
   ]
  },
  {
   "cell_type": "code",
   "execution_count": 44,
   "id": "c723fbb5",
   "metadata": {},
   "outputs": [],
   "source": [
    "X_test = np.stack([X_windows_test_FHR, X_windows_test_FMP], axis=-1)\n",
    "X_test_sick = np.stack([X_windows_test_sick_FHR, X_windows_test_sick_FMP], axis=-1) \n",
    "X_windows_test = tf.convert_to_tensor(X_test, dtype=tf.float32)\n",
    "X_windows_test_sick = tf.convert_to_tensor(X_test_sick, dtype=tf.float32)"
   ]
  },
  {
   "cell_type": "code",
   "execution_count": 45,
   "id": "a307afda",
   "metadata": {},
   "outputs": [],
   "source": [
    "y_windows_test = tf.convert_to_tensor(y_windows_test, dtype=tf.float32)\n",
    "y_windows_test_sick = tf.convert_to_tensor(y_windows_test_sick, dtype=tf.float32)"
   ]
  },
  {
   "cell_type": "code",
   "execution_count": 46,
   "id": "02c30a11",
   "metadata": {},
   "outputs": [
    {
     "name": "stdout",
     "output_type": "stream",
     "text": [
      "110/110 [==============================] - 6s 49ms/step\n",
      "120/120 [==============================] - 6s 47ms/step\n"
     ]
    }
   ],
   "source": [
    "#y_true_healthy = y_windows_test.flatten()\n",
    "y_pred_healthy_fmp = model_fmp.predict(X_windows_test).flatten()\n",
    "metrics_boot_healthy_fmp = bootstrap_metrics(y_true_healthy, y_pred_healthy_fmp)\n",
    "ci_healthy_fmp = compute_confidence_intervals(metrics_boot_healthy_fmp)\n",
    "\n",
    "#y_true_sick = y_windows_test_sick.flatten()\n",
    "y_pred_sick_fmp = model_fmp.predict(X_windows_test_sick).flatten()\n",
    "metrics_boot_sick_fmp = bootstrap_metrics(y_true_sick, y_pred_sick_fmp)\n",
    "ci_sick_fmp = compute_confidence_intervals(metrics_boot_sick_fmp)"
   ]
  },
  {
   "cell_type": "code",
   "execution_count": 47,
   "id": "71aa534f",
   "metadata": {},
   "outputs": [
    {
     "name": "stdout",
     "output_type": "stream",
     "text": [
      "Healthy subjects:\n",
      "MAE_norm: 0.255 (IC 95%: 0.248 - 0.262)\n",
      "MSE_norm: 0.105 (IC 95%: 0.101 - 0.110)\n",
      "MAE_denorm: 8.033 (IC 95%: 7.824 - 8.245)\n",
      "MSE_denorm: 104.522 (IC 95%: 99.907 - 109.407)\n",
      "MAE_denorm_div7: 1.148 (IC 95%: 1.118 - 1.178)\n",
      "MSE_denorm_div7: 14.932 (IC 95%: 14.272 - 15.630)\n",
      "R2: 0.265 (IC 95%: 0.242 - 0.287)\n",
      "P_value_R2: 0.000 (IC 95%: 0.000 - 0.000)\n",
      "Pearson: 0.527 (IC 95%: 0.501 - 0.552)\n",
      "Spearman: 0.519 (IC 95%: 0.493 - 0.544)\n",
      "P_value_pearson: 0.000 (IC 95%: 0.000 - 0.000)\n",
      "P_value_spearman: 0.000 (IC 95%: 0.000 - 0.000)\n",
      "Slope: 0.232 (IC 95%: 0.219 - 0.244)\n",
      "\n",
      "Sick subjects:\n",
      "MAE_norm: 0.673 (IC 95%: 0.656 - 0.691)\n",
      "MSE_norm: 0.737 (IC 95%: 0.697 - 0.782)\n",
      "MAE_denorm: 21.196 (IC 95%: 20.657 - 21.752)\n",
      "MSE_denorm: 731.191 (IC 95%: 692.001 - 775.883)\n",
      "MAE_denorm_div7: 3.028 (IC 95%: 2.951 - 3.107)\n",
      "MSE_denorm_div7: 104.456 (IC 95%: 98.857 - 110.840)\n",
      "R2: -0.284 (IC 95%: -0.346 - -0.237)\n",
      "P_value_R2: 1.000 (IC 95%: 1.000 - 1.000)\n",
      "Pearson: -0.033 (IC 95%: -0.061 - -0.005)\n",
      "Spearman: 0.027 (IC 95%: -0.005 - 0.060)\n",
      "P_value_pearson: 0.121 (IC 95%: 0.000 - 0.719)\n",
      "P_value_spearman: 0.205 (IC 95%: 0.000 - 0.868)\n",
      "Slope: -0.015 (IC 95%: -0.028 - -0.002)\n"
     ]
    }
   ],
   "source": [
    "print(\"Healthy subjects:\")\n",
    "for metrica, (mean, lower, upper) in ci_healthy_fmp.items():\n",
    "    print(f\"{metrica}: {mean:.3f} (IC 95%: {lower:.3f} - {upper:.3f})\")\n",
    "\n",
    "print(\"\\nSick subjects:\")\n",
    "for metrica, (mean, lower, upper) in ci_sick_fmp.items():\n",
    "    print(f\"{metrica}: {mean:.3f} (IC 95%: {lower:.3f} - {upper:.3f})\")"
   ]
  },
  {
   "cell_type": "code",
   "execution_count": 48,
   "id": "8f0f8d76",
   "metadata": {},
   "outputs": [],
   "source": [
    "#filtered_y_true = np.array(y_true_healthy)[mask]\n",
    "filtered_y_pred_fmp= np.array(y_pred_healthy_fmp)[mask]\n",
    "#filtered_y_true_sick = np.array(y_true_sick)[mask_sick]\n",
    "filtered_y_pred_sick_fmp = np.array(y_pred_sick_fmp)[mask_sick]"
   ]
  },
  {
   "cell_type": "code",
   "execution_count": 49,
   "id": "4f431c9e",
   "metadata": {},
   "outputs": [
    {
     "name": "stdout",
     "output_type": "stream",
     "text": [
      "Healthy subjects (filtered):\n",
      "MAE_norm: 0.222 (IC 95%: 0.216 - 0.228)\n",
      "MSE_norm: 0.078 (IC 95%: 0.074 - 0.081)\n",
      "MAE_denorm: 6.991 (IC 95%: 6.801 - 7.182)\n",
      "MSE_denorm: 77.056 (IC 95%: 73.307 - 80.854)\n",
      "MAE_denorm_div7: 0.999 (IC 95%: 0.972 - 1.026)\n",
      "MSE_denorm_div7: 11.008 (IC 95%: 10.472 - 11.551)\n",
      "R2: 0.213 (IC 95%: 0.185 - 0.241)\n",
      "P_value_R2: 0.000 (IC 95%: 0.000 - 0.000)\n",
      "Pearson: 0.470 (IC 95%: 0.443 - 0.498)\n",
      "Spearman: 0.468 (IC 95%: 0.440 - 0.496)\n",
      "P_value_pearson: 0.000 (IC 95%: 0.000 - 0.000)\n",
      "P_value_spearman: 0.000 (IC 95%: 0.000 - 0.000)\n",
      "Slope: 0.238 (IC 95%: 0.222 - 0.254)\n",
      "\n",
      "Sick subjects (filtered):\n",
      "MAE_norm: 0.399 (IC 95%: 0.387 - 0.412)\n",
      "MSE_norm: 0.263 (IC 95%: 0.246 - 0.282)\n",
      "MAE_denorm: 12.579 (IC 95%: 12.189 - 12.979)\n",
      "MSE_denorm: 261.094 (IC 95%: 244.495 - 279.466)\n",
      "MAE_denorm_div7: 1.797 (IC 95%: 1.741 - 1.854)\n",
      "MSE_denorm_div7: 37.299 (IC 95%: 34.928 - 39.924)\n",
      "R2: -1.046 (IC 95%: -1.195 - -0.911)\n",
      "P_value_R2: 1.000 (IC 95%: 1.000 - 1.000)\n",
      "Pearson: 0.006 (IC 95%: -0.034 - 0.047)\n",
      "Spearman: 0.044 (IC 95%: 0.001 - 0.082)\n",
      "P_value_pearson: 0.483 (IC 95%: 0.018 - 0.971)\n",
      "P_value_spearman: 0.121 (IC 95%: 0.000 - 0.773)\n",
      "Slope: 0.005 (IC 95%: -0.033 - 0.045)\n"
     ]
    }
   ],
   "source": [
    "metrics_boot_healthy_filtered_fmp = bootstrap_metrics(filtered_y_true, filtered_y_pred_fmp)\n",
    "ci_healthy_filtered_fmp = compute_confidence_intervals(metrics_boot_healthy_filtered_fmp)\n",
    "metrics_boot_sick_filtered_fmp = bootstrap_metrics(filtered_y_true_sick, filtered_y_pred_sick_fmp)\n",
    "ci_sick_filtered_fmp = compute_confidence_intervals(metrics_boot_sick_filtered_fmp)\n",
    "print(\"Healthy subjects (filtered):\")\n",
    "for metrica, (mean, lower, upper) in ci_healthy_filtered_fmp.items():\n",
    "    print(f\"{metrica}: {mean:.3f} (IC 95%: {lower:.3f} - {upper:.3f})\")\n",
    "print(\"\\nSick subjects (filtered):\")\n",
    "for metrica, (mean, lower, upper) in ci_sick_filtered_fmp.items():\n",
    "    print(f\"{metrica}: {mean:.3f} (IC 95%: {lower:.3f} - {upper:.3f})\")"
   ]
  },
  {
   "cell_type": "code",
   "execution_count": 50,
   "id": "8d3a1606",
   "metadata": {},
   "outputs": [
    {
     "name": "stdout",
     "output_type": "stream",
     "text": [
      "                          Media        IC 2.5%       IC 97.5%\n",
      "MAE_norm           2.550285e-01   2.483697e-01   2.617386e-01\n",
      "MSE_norm           1.053383e-01   1.006875e-01   1.102617e-01\n",
      "MAE_denorm         8.033398e+00   7.823647e+00   8.244767e+00\n",
      "MSE_denorm         1.045219e+02   9.990721e+01   1.094072e+02\n",
      "MAE_denorm_div7    1.147628e+00   1.117664e+00   1.177824e+00\n",
      "MSE_denorm_div7    1.493171e+01   1.427246e+01   1.562960e+01\n",
      "R2                 2.648138e-01   2.418817e-01   2.867301e-01\n",
      "P_value_R2         1.110223e-16   1.110223e-16   1.110223e-16\n",
      "Pearson            5.270374e-01   5.009799e-01   5.518522e-01\n",
      "Spearman           5.191237e-01   4.926003e-01   5.440910e-01\n",
      "P_value_pearson   2.560207e-204  2.770588e-278  7.175608e-222\n",
      "P_value_spearman  7.301774e-200  4.840962e-269  1.900080e-213\n",
      "Slope              2.315540e-01   2.191740e-01   2.440322e-01\n",
      "                       Media     IC 2.5%    IC 97.5%\n",
      "MAE_norm            0.672901    0.655783    0.690548\n",
      "MSE_norm            0.736902    0.697406    0.781943\n",
      "MAE_denorm         21.196372   20.657155   21.752255\n",
      "MSE_denorm        731.191412  692.000871  775.883332\n",
      "MAE_denorm_div7     3.028053    2.951022    3.107465\n",
      "MSE_denorm_div7   104.455916   98.857267  110.840476\n",
      "R2                 -0.283662   -0.345824   -0.236837\n",
      "P_value_R2          1.000000    1.000000    1.000000\n",
      "Pearson            -0.033251   -0.061400   -0.005002\n",
      "Spearman            0.027497   -0.005121    0.060475\n",
      "P_value_pearson     0.121443    0.000142    0.718528\n",
      "P_value_spearman    0.205366    0.000179    0.867620\n",
      "Slope              -0.015083   -0.028083   -0.002136\n",
      "                          Media        IC 2.5%       IC 97.5%\n",
      "MAE_norm           2.219308e-01   2.158997e-01   2.280122e-01\n",
      "MSE_norm           7.765757e-02   7.387986e-02   8.148504e-02\n",
      "MAE_denorm         6.990821e+00   6.800840e+00   7.182385e+00\n",
      "MSE_denorm         7.705572e+01   7.330729e+01   8.085354e+01\n",
      "MAE_denorm_div7    9.986887e-01   9.715486e-01   1.026055e+00\n",
      "MSE_denorm_div7    1.100796e+01   1.047247e+01   1.155051e+01\n",
      "R2                 2.127693e-01   1.848523e-01   2.408704e-01\n",
      "P_value_R2         1.110223e-16   1.110223e-16   1.110223e-16\n",
      "Pearson            4.701658e-01   4.432796e-01   4.981576e-01\n",
      "Spearman           4.680158e-01   4.401133e-01   4.960709e-01\n",
      "P_value_pearson   3.546714e-142  7.453697e-200  9.099993e-154\n",
      "P_value_spearman  1.108889e-142  6.054729e-198  2.338408e-151\n",
      "Slope              2.377137e-01   2.215362e-01   2.536942e-01\n",
      "                       Media     IC 2.5%    IC 97.5%\n",
      "MAE_norm            0.399332    0.386959    0.412029\n",
      "MSE_norm            0.263134    0.246404    0.281649\n",
      "MAE_denorm         12.578943   12.189202   12.978929\n",
      "MSE_denorm        261.094251  244.494652  279.465794\n",
      "MAE_denorm_div7     1.796992    1.741315    1.854133\n",
      "MSE_denorm_div7    37.299179   34.927807   39.923685\n",
      "R2                 -1.045873   -1.195038   -0.910529\n",
      "P_value_R2          1.000000    1.000000    1.000000\n",
      "Pearson             0.005710   -0.034006    0.046908\n",
      "Spearman            0.043659    0.001121    0.082499\n",
      "P_value_pearson     0.482917    0.018223    0.970961\n",
      "P_value_spearman    0.121289    0.000045    0.772565\n",
      "Slope               0.005463   -0.033030    0.044821\n"
     ]
    }
   ],
   "source": [
    "df_healthy_fmp = pd.DataFrame(ci_healthy_fmp, index=['Media', 'IC 2.5%', 'IC 97.5%']).T\n",
    "print(df_healthy_fmp)\n",
    "df_sick_fmp = pd.DataFrame(ci_sick_fmp, index=['Media', 'IC 2.5%', 'IC 97.5%']).T\n",
    "print(df_sick_fmp)\n",
    "df_healthy_filtered_fmp = pd.DataFrame(ci_healthy_filtered_fmp, index=['Media', 'IC 2.5%', 'IC 97.5%']).T\n",
    "print(df_healthy_filtered_fmp)\n",
    "df_sick_filtered_fmp = pd.DataFrame(ci_sick_filtered_fmp, index=['Media', 'IC 2.5%', 'IC 97.5%']).T\n",
    "print(df_sick_filtered_fmp)"
   ]
  }
 ],
 "metadata": {
  "kernelspec": {
   "display_name": "Chiara",
   "language": "python",
   "name": "python3"
  },
  "language_info": {
   "codemirror_mode": {
    "name": "ipython",
    "version": 3
   },
   "file_extension": ".py",
   "mimetype": "text/x-python",
   "name": "python",
   "nbconvert_exporter": "python",
   "pygments_lexer": "ipython3",
   "version": "3.8.12"
  }
 },
 "nbformat": 4,
 "nbformat_minor": 5
}
